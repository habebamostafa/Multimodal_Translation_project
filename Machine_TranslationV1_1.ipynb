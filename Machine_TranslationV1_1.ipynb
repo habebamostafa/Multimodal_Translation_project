{
  "nbformat": 4,
  "nbformat_minor": 0,
  "metadata": {
    "colab": {
      "provenance": [],
      "gpuType": "T4",
      "include_colab_link": true
    },
    "kernelspec": {
      "name": "python3",
      "display_name": "Python 3"
    },
    "language_info": {
      "name": "python"
    },
    "accelerator": "GPU"
  },
  "cells": [
    {
      "cell_type": "markdown",
      "metadata": {
        "id": "view-in-github",
        "colab_type": "text"
      },
      "source": [
        "<a href=\"https://colab.research.google.com/github/habebamostafa/Multimodal_Translation_project/blob/main/Machine_TranslationV1_1.ipynb\" target=\"_parent\"><img src=\"https://colab.research.google.com/assets/colab-badge.svg\" alt=\"Open In Colab\"/></a>"
      ]
    },
    {
      "cell_type": "markdown",
      "source": [
        "# 1. Import necessary libraries"
      ],
      "metadata": {
        "id": "2QW85Uzz0CBX"
      }
    },
    {
      "cell_type": "code",
      "execution_count": null,
      "metadata": {
        "id": "XZ7WNYoiz9X3"
      },
      "outputs": [],
      "source": [
        "import pandas as pd\n",
        "import numpy as np\n",
        "from sklearn.model_selection import train_test_split\n",
        "import os\n",
        "import re\n",
        "import string"
      ]
    },
    {
      "cell_type": "markdown",
      "source": [
        "# 2. Load and prepare dataset"
      ],
      "metadata": {
        "id": "S5ivXAeI0G6g"
      }
    },
    {
      "cell_type": "code",
      "source": [
        "# from google.colab import drive\n",
        "# drive.mount(\"/content/gdrive\")\n",
        "\n",
        "df = pd.read_csv('ara.txt', encoding='utf-8', sep='\\t', names=['English', 'Arabic', 'Attribution'])\n",
        "\n",
        "df.drop(['Attribution'], axis=1, inplace=True)\n",
        "df.tail()"
      ],
      "metadata": {
        "id": "0DJRY2aF0Fjf",
        "colab": {
          "base_uri": "https://localhost:8080/",
          "height": 206
        },
        "outputId": "7dc27d64-80fe-4ae4-ab79-e1c410636d04"
      },
      "execution_count": null,
      "outputs": [
        {
          "output_type": "execute_result",
          "data": {
            "text/plain": [
              "                                                 English  \\\n",
              "12518  The mobile phone you have dialed is either swi...   \n",
              "12519  If you decide to answer questions now without ...   \n",
              "12520  A man touched down on the moon. A wall came do...   \n",
              "12521  Ladies and gentlemen, please stand for the nat...   \n",
              "12522  There are mothers and fathers who will lie awa...   \n",
              "\n",
              "                                                  Arabic  \n",
              "12518  الهاتف المتحرك الذي طلبته مغلق أو خارج نطاق ال...  \n",
              "12519  إذا قررت الإجابة عن الأسئلة الآن دون حضور محام...  \n",
              "12520  هبط إنسان على سطح القمر، وأنهار حائط في برلين،...  \n",
              "12521  سيداتي و سادتي ، رجاءً قفوا للنشيد الوطني للات...  \n",
              "12522  وهناك أمهات وآباء سيظلون مستيقظين بعد أن ينام ...  "
            ],
            "text/html": [
              "\n",
              "  <div id=\"df-64003e86-9287-4ddd-b00e-0ac32c196fad\" class=\"colab-df-container\">\n",
              "    <div>\n",
              "<style scoped>\n",
              "    .dataframe tbody tr th:only-of-type {\n",
              "        vertical-align: middle;\n",
              "    }\n",
              "\n",
              "    .dataframe tbody tr th {\n",
              "        vertical-align: top;\n",
              "    }\n",
              "\n",
              "    .dataframe thead th {\n",
              "        text-align: right;\n",
              "    }\n",
              "</style>\n",
              "<table border=\"1\" class=\"dataframe\">\n",
              "  <thead>\n",
              "    <tr style=\"text-align: right;\">\n",
              "      <th></th>\n",
              "      <th>English</th>\n",
              "      <th>Arabic</th>\n",
              "    </tr>\n",
              "  </thead>\n",
              "  <tbody>\n",
              "    <tr>\n",
              "      <th>12518</th>\n",
              "      <td>The mobile phone you have dialed is either swi...</td>\n",
              "      <td>الهاتف المتحرك الذي طلبته مغلق أو خارج نطاق ال...</td>\n",
              "    </tr>\n",
              "    <tr>\n",
              "      <th>12519</th>\n",
              "      <td>If you decide to answer questions now without ...</td>\n",
              "      <td>إذا قررت الإجابة عن الأسئلة الآن دون حضور محام...</td>\n",
              "    </tr>\n",
              "    <tr>\n",
              "      <th>12520</th>\n",
              "      <td>A man touched down on the moon. A wall came do...</td>\n",
              "      <td>هبط إنسان على سطح القمر، وأنهار حائط في برلين،...</td>\n",
              "    </tr>\n",
              "    <tr>\n",
              "      <th>12521</th>\n",
              "      <td>Ladies and gentlemen, please stand for the nat...</td>\n",
              "      <td>سيداتي و سادتي ، رجاءً قفوا للنشيد الوطني للات...</td>\n",
              "    </tr>\n",
              "    <tr>\n",
              "      <th>12522</th>\n",
              "      <td>There are mothers and fathers who will lie awa...</td>\n",
              "      <td>وهناك أمهات وآباء سيظلون مستيقظين بعد أن ينام ...</td>\n",
              "    </tr>\n",
              "  </tbody>\n",
              "</table>\n",
              "</div>\n",
              "    <div class=\"colab-df-buttons\">\n",
              "\n",
              "  <div class=\"colab-df-container\">\n",
              "    <button class=\"colab-df-convert\" onclick=\"convertToInteractive('df-64003e86-9287-4ddd-b00e-0ac32c196fad')\"\n",
              "            title=\"Convert this dataframe to an interactive table.\"\n",
              "            style=\"display:none;\">\n",
              "\n",
              "  <svg xmlns=\"http://www.w3.org/2000/svg\" height=\"24px\" viewBox=\"0 -960 960 960\">\n",
              "    <path d=\"M120-120v-720h720v720H120Zm60-500h600v-160H180v160Zm220 220h160v-160H400v160Zm0 220h160v-160H400v160ZM180-400h160v-160H180v160Zm440 0h160v-160H620v160ZM180-180h160v-160H180v160Zm440 0h160v-160H620v160Z\"/>\n",
              "  </svg>\n",
              "    </button>\n",
              "\n",
              "  <style>\n",
              "    .colab-df-container {\n",
              "      display:flex;\n",
              "      gap: 12px;\n",
              "    }\n",
              "\n",
              "    .colab-df-convert {\n",
              "      background-color: #E8F0FE;\n",
              "      border: none;\n",
              "      border-radius: 50%;\n",
              "      cursor: pointer;\n",
              "      display: none;\n",
              "      fill: #1967D2;\n",
              "      height: 32px;\n",
              "      padding: 0 0 0 0;\n",
              "      width: 32px;\n",
              "    }\n",
              "\n",
              "    .colab-df-convert:hover {\n",
              "      background-color: #E2EBFA;\n",
              "      box-shadow: 0px 1px 2px rgba(60, 64, 67, 0.3), 0px 1px 3px 1px rgba(60, 64, 67, 0.15);\n",
              "      fill: #174EA6;\n",
              "    }\n",
              "\n",
              "    .colab-df-buttons div {\n",
              "      margin-bottom: 4px;\n",
              "    }\n",
              "\n",
              "    [theme=dark] .colab-df-convert {\n",
              "      background-color: #3B4455;\n",
              "      fill: #D2E3FC;\n",
              "    }\n",
              "\n",
              "    [theme=dark] .colab-df-convert:hover {\n",
              "      background-color: #434B5C;\n",
              "      box-shadow: 0px 1px 3px 1px rgba(0, 0, 0, 0.15);\n",
              "      filter: drop-shadow(0px 1px 2px rgba(0, 0, 0, 0.3));\n",
              "      fill: #FFFFFF;\n",
              "    }\n",
              "  </style>\n",
              "\n",
              "    <script>\n",
              "      const buttonEl =\n",
              "        document.querySelector('#df-64003e86-9287-4ddd-b00e-0ac32c196fad button.colab-df-convert');\n",
              "      buttonEl.style.display =\n",
              "        google.colab.kernel.accessAllowed ? 'block' : 'none';\n",
              "\n",
              "      async function convertToInteractive(key) {\n",
              "        const element = document.querySelector('#df-64003e86-9287-4ddd-b00e-0ac32c196fad');\n",
              "        const dataTable =\n",
              "          await google.colab.kernel.invokeFunction('convertToInteractive',\n",
              "                                                    [key], {});\n",
              "        if (!dataTable) return;\n",
              "\n",
              "        const docLinkHtml = 'Like what you see? Visit the ' +\n",
              "          '<a target=\"_blank\" href=https://colab.research.google.com/notebooks/data_table.ipynb>data table notebook</a>'\n",
              "          + ' to learn more about interactive tables.';\n",
              "        element.innerHTML = '';\n",
              "        dataTable['output_type'] = 'display_data';\n",
              "        await google.colab.output.renderOutput(dataTable, element);\n",
              "        const docLink = document.createElement('div');\n",
              "        docLink.innerHTML = docLinkHtml;\n",
              "        element.appendChild(docLink);\n",
              "      }\n",
              "    </script>\n",
              "  </div>\n",
              "\n",
              "\n",
              "<div id=\"df-ba6f5322-0a13-4267-9801-f5e69ebda878\">\n",
              "  <button class=\"colab-df-quickchart\" onclick=\"quickchart('df-ba6f5322-0a13-4267-9801-f5e69ebda878')\"\n",
              "            title=\"Suggest charts\"\n",
              "            style=\"display:none;\">\n",
              "\n",
              "<svg xmlns=\"http://www.w3.org/2000/svg\" height=\"24px\"viewBox=\"0 0 24 24\"\n",
              "     width=\"24px\">\n",
              "    <g>\n",
              "        <path d=\"M19 3H5c-1.1 0-2 .9-2 2v14c0 1.1.9 2 2 2h14c1.1 0 2-.9 2-2V5c0-1.1-.9-2-2-2zM9 17H7v-7h2v7zm4 0h-2V7h2v10zm4 0h-2v-4h2v4z\"/>\n",
              "    </g>\n",
              "</svg>\n",
              "  </button>\n",
              "\n",
              "<style>\n",
              "  .colab-df-quickchart {\n",
              "      --bg-color: #E8F0FE;\n",
              "      --fill-color: #1967D2;\n",
              "      --hover-bg-color: #E2EBFA;\n",
              "      --hover-fill-color: #174EA6;\n",
              "      --disabled-fill-color: #AAA;\n",
              "      --disabled-bg-color: #DDD;\n",
              "  }\n",
              "\n",
              "  [theme=dark] .colab-df-quickchart {\n",
              "      --bg-color: #3B4455;\n",
              "      --fill-color: #D2E3FC;\n",
              "      --hover-bg-color: #434B5C;\n",
              "      --hover-fill-color: #FFFFFF;\n",
              "      --disabled-bg-color: #3B4455;\n",
              "      --disabled-fill-color: #666;\n",
              "  }\n",
              "\n",
              "  .colab-df-quickchart {\n",
              "    background-color: var(--bg-color);\n",
              "    border: none;\n",
              "    border-radius: 50%;\n",
              "    cursor: pointer;\n",
              "    display: none;\n",
              "    fill: var(--fill-color);\n",
              "    height: 32px;\n",
              "    padding: 0;\n",
              "    width: 32px;\n",
              "  }\n",
              "\n",
              "  .colab-df-quickchart:hover {\n",
              "    background-color: var(--hover-bg-color);\n",
              "    box-shadow: 0 1px 2px rgba(60, 64, 67, 0.3), 0 1px 3px 1px rgba(60, 64, 67, 0.15);\n",
              "    fill: var(--button-hover-fill-color);\n",
              "  }\n",
              "\n",
              "  .colab-df-quickchart-complete:disabled,\n",
              "  .colab-df-quickchart-complete:disabled:hover {\n",
              "    background-color: var(--disabled-bg-color);\n",
              "    fill: var(--disabled-fill-color);\n",
              "    box-shadow: none;\n",
              "  }\n",
              "\n",
              "  .colab-df-spinner {\n",
              "    border: 2px solid var(--fill-color);\n",
              "    border-color: transparent;\n",
              "    border-bottom-color: var(--fill-color);\n",
              "    animation:\n",
              "      spin 1s steps(1) infinite;\n",
              "  }\n",
              "\n",
              "  @keyframes spin {\n",
              "    0% {\n",
              "      border-color: transparent;\n",
              "      border-bottom-color: var(--fill-color);\n",
              "      border-left-color: var(--fill-color);\n",
              "    }\n",
              "    20% {\n",
              "      border-color: transparent;\n",
              "      border-left-color: var(--fill-color);\n",
              "      border-top-color: var(--fill-color);\n",
              "    }\n",
              "    30% {\n",
              "      border-color: transparent;\n",
              "      border-left-color: var(--fill-color);\n",
              "      border-top-color: var(--fill-color);\n",
              "      border-right-color: var(--fill-color);\n",
              "    }\n",
              "    40% {\n",
              "      border-color: transparent;\n",
              "      border-right-color: var(--fill-color);\n",
              "      border-top-color: var(--fill-color);\n",
              "    }\n",
              "    60% {\n",
              "      border-color: transparent;\n",
              "      border-right-color: var(--fill-color);\n",
              "    }\n",
              "    80% {\n",
              "      border-color: transparent;\n",
              "      border-right-color: var(--fill-color);\n",
              "      border-bottom-color: var(--fill-color);\n",
              "    }\n",
              "    90% {\n",
              "      border-color: transparent;\n",
              "      border-bottom-color: var(--fill-color);\n",
              "    }\n",
              "  }\n",
              "</style>\n",
              "\n",
              "  <script>\n",
              "    async function quickchart(key) {\n",
              "      const quickchartButtonEl =\n",
              "        document.querySelector('#' + key + ' button');\n",
              "      quickchartButtonEl.disabled = true;  // To prevent multiple clicks.\n",
              "      quickchartButtonEl.classList.add('colab-df-spinner');\n",
              "      try {\n",
              "        const charts = await google.colab.kernel.invokeFunction(\n",
              "            'suggestCharts', [key], {});\n",
              "      } catch (error) {\n",
              "        console.error('Error during call to suggestCharts:', error);\n",
              "      }\n",
              "      quickchartButtonEl.classList.remove('colab-df-spinner');\n",
              "      quickchartButtonEl.classList.add('colab-df-quickchart-complete');\n",
              "    }\n",
              "    (() => {\n",
              "      let quickchartButtonEl =\n",
              "        document.querySelector('#df-ba6f5322-0a13-4267-9801-f5e69ebda878 button');\n",
              "      quickchartButtonEl.style.display =\n",
              "        google.colab.kernel.accessAllowed ? 'block' : 'none';\n",
              "    })();\n",
              "  </script>\n",
              "</div>\n",
              "\n",
              "    </div>\n",
              "  </div>\n"
            ],
            "application/vnd.google.colaboratory.intrinsic+json": {
              "type": "dataframe",
              "summary": "{\n  \"name\": \"df\",\n  \"rows\": 5,\n  \"fields\": [\n    {\n      \"column\": \"English\",\n      \"properties\": {\n        \"dtype\": \"string\",\n        \"num_unique_values\": 5,\n        \"samples\": [\n          \"If you decide to answer questions now without a lawyer present, you have the right to stop answering at any time.\",\n          \"There are mothers and fathers who will lie awake after the children fall asleep and wonder how they'll make the mortgage, or pay their doctor's bills, or save enough for their child's college education.\",\n          \"A man touched down on the moon. A wall came down in Berlin. A world was connected by our own science and imagination.\"\n        ],\n        \"semantic_type\": \"\",\n        \"description\": \"\"\n      }\n    },\n    {\n      \"column\": \"Arabic\",\n      \"properties\": {\n        \"dtype\": \"string\",\n        \"num_unique_values\": 5,\n        \"samples\": [\n          \"\\u0625\\u0630\\u0627 \\u0642\\u0631\\u0631\\u062a \\u0627\\u0644\\u0625\\u062c\\u0627\\u0628\\u0629 \\u0639\\u0646 \\u0627\\u0644\\u0623\\u0633\\u0626\\u0644\\u0629 \\u0627\\u0644\\u0622\\u0646 \\u062f\\u0648\\u0646 \\u062d\\u0636\\u0648\\u0631 \\u0645\\u062d\\u0627\\u0645\\u064a \\u060c \\u0641\\u064a\\u062d\\u0642 \\u0644\\u0643 \\u0627\\u0644\\u062a\\u0648\\u0642\\u0641 \\u0639\\u0646 \\u0627\\u0644\\u0625\\u062c\\u0627\\u0628\\u0629 \\u0641\\u064a \\u0623\\u064a \\u0648\\u0642\\u062a.\",\n          \"\\u0648\\u0647\\u0646\\u0627\\u0643 \\u0623\\u0645\\u0647\\u0627\\u062a \\u0648\\u0622\\u0628\\u0627\\u0621 \\u0633\\u064a\\u0638\\u0644\\u0648\\u0646 \\u0645\\u0633\\u062a\\u064a\\u0642\\u0638\\u064a\\u0646 \\u0628\\u0639\\u062f \\u0623\\u0646 \\u064a\\u0646\\u0627\\u0645 \\u0623\\u0637\\u0641\\u0627\\u0644\\u0647\\u0645\\u060c \\u064a\\u062a\\u0633\\u0627\\u0621\\u0644\\u0648\\u0646 \\u0639\\u0646 \\u0643\\u064a\\u0641 \\u0633\\u064a\\u0633\\u062f\\u062f\\u0648\\u0646 \\u0623\\u0642\\u0633\\u0627\\u0637 \\u0627\\u0644\\u0631\\u0647\\u0646 \\u0627\\u0644\\u0639\\u0642\\u0627\\u0631\\u064a \\u0627\\u0644\\u0630\\u064a \\u0627\\u0634\\u062a\\u0631\\u064e\\u0648\\u0652 \\u0628\\u0647 \\u0628\\u064a\\u062a\\u0647\\u0645\\u060c \\u0648\\u0643\\u064a\\u0641 \\u0633\\u064a\\u062f\\u0641\\u0639\\u0648\\u0646 \\u0641\\u0648\\u0627\\u062a\\u064a\\u0631 \\u0623\\u0637\\u0628\\u0627\\u0626\\u0647\\u0645\\u060c \\u0623\\u0648 \\u062a\\u0648\\u0641\\u064a\\u0631 \\u0645\\u0627 \\u064a\\u062d\\u062a\\u0627\\u062c\\u0648\\u0646\\u0647 \\u0645\\u0646 \\u0645\\u0627\\u0644 \\u0644\\u062a\\u0633\\u062f\\u064a\\u062f \\u0631\\u0633\\u0648\\u0645 \\u062a\\u0633\\u062c\\u064a\\u0644 \\u0623\\u0628\\u0646\\u0627\\u0626\\u0647\\u0645 \\u0641\\u064a \\u0627\\u0644\\u062c\\u0627\\u0645\\u0639\\u0627\\u062a.\",\n          \"\\u0647\\u0628\\u0637 \\u0625\\u0646\\u0633\\u0627\\u0646 \\u0639\\u0644\\u0649 \\u0633\\u0637\\u062d \\u0627\\u0644\\u0642\\u0645\\u0631\\u060c \\u0648\\u0623\\u0646\\u0647\\u0627\\u0631 \\u062d\\u0627\\u0626\\u0637 \\u0641\\u064a \\u0628\\u0631\\u0644\\u064a\\u0646\\u060c \\u0648 \\u0639\\u0627\\u0644\\u0645 \\u062a\\u0631\\u0627\\u0628\\u0637\\u062a \\u0623\\u062c\\u0632\\u0627\\u0624\\u0647 \\u0628\\u0639\\u0644\\u0645\\u0646\\u0627 \\u0648\\u062e\\u064a\\u0627\\u0644\\u0646\\u0627.\"\n        ],\n        \"semantic_type\": \"\",\n        \"description\": \"\"\n      }\n    }\n  ]\n}"
            }
          },
          "metadata": {},
          "execution_count": 2
        }
      ]
    },
    {
      "cell_type": "markdown",
      "source": [
        "# 3. Preprocess sentences (text cleaning)\n"
      ],
      "metadata": {
        "id": "e03OPlc90J1w"
      }
    },
    {
      "cell_type": "code",
      "source": [
        "def preprocess_sentence(sentence):\n",
        "    sentence = sentence.lower().strip()\n",
        "    sentence = re.sub(r\"i'm\", \"i am\", sentence)\n",
        "    sentence = re.sub(r\"he's\", \"he is\", sentence)\n",
        "    sentence = re.sub(r\"she's\", \"she is\", sentence)\n",
        "    sentence = re.sub(r\"it's\", \"it is\", sentence)\n",
        "    sentence = re.sub(r\"that's\", \"that is\", sentence)\n",
        "    sentence = re.sub(r\"what's\", \"that is\", sentence)\n",
        "    sentence = re.sub(r\"where's\", \"where is\", sentence)\n",
        "    sentence = re.sub(r\"how's\", \"how is\", sentence)\n",
        "    sentence = re.sub(r\"\\'ll\", \" will\", sentence)\n",
        "    sentence = re.sub(r\"\\'ve\", \" have\", sentence)\n",
        "    sentence = re.sub(r\"\\'re\", \" are\", sentence)\n",
        "    sentence = re.sub(r\"\\'d\", \" would\", sentence)\n",
        "    sentence = re.sub(r\"won't\", \"will not\", sentence)\n",
        "    sentence = re.sub(r\"can't\", \"cannot\", sentence)\n",
        "    sentence = re.sub(r\"n't\", \" not\", sentence)\n",
        "    sentence = re.sub(r\"n'\", \"ng\", sentence)\n",
        "    sentence = re.sub(r\"'bout\", \"about\", sentence)\n",
        "    sentence = re.sub(r\"[^a-zA-Z?.!,]+\", \" \", sentence)\n",
        "    sentence = sentence.strip()\n",
        "    return sentence\n",
        "\n",
        "df['English'] = df['English'].apply(preprocess_sentence)"
      ],
      "metadata": {
        "id": "PWLRlLma0Lax"
      },
      "execution_count": null,
      "outputs": []
    },
    {
      "cell_type": "markdown",
      "source": [
        "# 4. Translation and punctuation removal"
      ],
      "metadata": {
        "id": "C3HgSgP80NfP"
      }
    },
    {
      "cell_type": "code",
      "source": [
        "translator = str.maketrans('', '', string.punctuation)\n",
        "\n",
        "df.English = df.English.apply(lambda x: x.translate(translator))\n",
        "df.Arabic = df.Arabic.apply(lambda x: x.translate(translator))\n",
        "df.Arabic = df.Arabic.apply(lambda x: 'sos ' + x + ' eos')\n",
        "\n",
        "eng_texts = df.English.to_list()\n",
        "ara_texts = df.Arabic.to_list()"
      ],
      "metadata": {
        "id": "hs0sJJVp0PAq"
      },
      "execution_count": null,
      "outputs": []
    },
    {
      "cell_type": "markdown",
      "source": [
        "# 5. Tokenization of English and Arabic sentences"
      ],
      "metadata": {
        "id": "eyTclSTX0QXg"
      }
    },
    {
      "cell_type": "code",
      "source": [
        "from tensorflow.keras.preprocessing.text import Tokenizer\n",
        "\n",
        "def tokenize_sent(text):\n",
        "    tokenizer = Tokenizer()\n",
        "    tokenizer.fit_on_texts(text)\n",
        "    return tokenizer, tokenizer.texts_to_sequences(text)\n",
        "\n",
        "eng_tokenizer, eng_encoded = tokenize_sent(text=eng_texts)\n",
        "ara_tokenizer, ara_encoded = tokenize_sent(text=ara_texts)\n",
        "\n",
        "eng_index_word = eng_tokenizer.index_word\n",
        "ara_index_word = ara_tokenizer.index_word\n",
        "ara_word_index = ara_tokenizer.word_index"
      ],
      "metadata": {
        "id": "cUjzzoGp0S_l"
      },
      "execution_count": null,
      "outputs": []
    },
    {
      "cell_type": "markdown",
      "source": [
        "# 6. Vocabulary size calculation"
      ],
      "metadata": {
        "id": "0O-VCRMI0VbI"
      }
    },
    {
      "cell_type": "code",
      "source": [
        "ENG_VOCAB_SIZE = len(eng_tokenizer.word_counts) + 1\n",
        "ARA_VOCAB_SIZE = len(ara_tokenizer.word_counts) + 1\n",
        "\n",
        "ENG_VOCAB_SIZE, ARA_VOCAB_SIZE"
      ],
      "metadata": {
        "id": "CLSTFxWc0xg2",
        "colab": {
          "base_uri": "https://localhost:8080/"
        },
        "outputId": "229d37a5-af0e-4587-aed8-b29ec2bab1d1"
      },
      "execution_count": null,
      "outputs": [
        {
          "output_type": "execute_result",
          "data": {
            "text/plain": [
              "(4273, 13598)"
            ]
          },
          "metadata": {},
          "execution_count": 6
        }
      ]
    },
    {
      "cell_type": "markdown",
      "source": [
        "# 7. Determine maximum sequence lengths for padding"
      ],
      "metadata": {
        "id": "qpAFMlXf0zN2"
      }
    },
    {
      "cell_type": "code",
      "source": [
        "max_eng_len = max(len(seq) for seq in eng_encoded)\n",
        "max_ara_len = max(len(seq) for seq in ara_encoded)\n",
        "\n",
        "max_eng_len, max_ara_len"
      ],
      "metadata": {
        "id": "W-QUBmA-007o",
        "colab": {
          "base_uri": "https://localhost:8080/"
        },
        "outputId": "5a541ae6-b200-4ce5-ea84-59a210d97f5d"
      },
      "execution_count": null,
      "outputs": [
        {
          "output_type": "execute_result",
          "data": {
            "text/plain": [
              "(37, 38)"
            ]
          },
          "metadata": {},
          "execution_count": 7
        }
      ]
    },
    {
      "cell_type": "markdown",
      "source": [
        "# 8. Pad sequences to uniform lengths"
      ],
      "metadata": {
        "id": "h6u4rs3E02vV"
      }
    },
    {
      "cell_type": "code",
      "source": [
        "from tensorflow.keras.preprocessing.sequence import pad_sequences\n",
        "\n",
        "eng_padded = pad_sequences(eng_encoded, maxlen=max_eng_len, padding='post')\n",
        "ara_padded = pad_sequences(ara_encoded, maxlen=max_ara_len, padding='post')\n",
        "\n",
        "eng_padded.shape, ara_padded.shape"
      ],
      "metadata": {
        "id": "BYWiZ_sX036g",
        "colab": {
          "base_uri": "https://localhost:8080/"
        },
        "outputId": "7cab38ba-e02d-4af3-eab0-e475db4cf7a0"
      },
      "execution_count": null,
      "outputs": [
        {
          "output_type": "execute_result",
          "data": {
            "text/plain": [
              "((12523, 37), (12523, 38))"
            ]
          },
          "metadata": {},
          "execution_count": 8
        }
      ]
    },
    {
      "cell_type": "markdown",
      "source": [
        "# 9. Split data into training and test sets"
      ],
      "metadata": {
        "id": "n4-1gNLN1EI2"
      }
    },
    {
      "cell_type": "code",
      "source": [
        "X_train, X_test, y_train, y_test = train_test_split(eng_padded, ara_padded, test_size=0.1, random_state=0)\n",
        "\n",
        "X_train.shape, X_test.shape, y_train.shape, y_test.shape"
      ],
      "metadata": {
        "id": "pgXMVvrM1dOs",
        "colab": {
          "base_uri": "https://localhost:8080/"
        },
        "outputId": "13e1cbad-47dd-46b7-ad53-3a06635a40fc"
      },
      "execution_count": null,
      "outputs": [
        {
          "output_type": "execute_result",
          "data": {
            "text/plain": [
              "((11270, 37), (1253, 37), (11270, 38), (1253, 38))"
            ]
          },
          "metadata": {},
          "execution_count": 9
        }
      ]
    },
    {
      "cell_type": "markdown",
      "source": [
        "# 10. Define the LSTM seq2seq model architecture"
      ],
      "metadata": {
        "id": "pF3lvPCo1jF5"
      }
    },
    {
      "cell_type": "code",
      "source": [
        "from tensorflow.keras.layers import LSTM, Dropout, Dense, Embedding, Bidirectional, Add, Concatenate\n",
        "from tensorflow.keras import Input, Model\n",
        "\n",
        "encoder_input = Input(shape=(None,))\n",
        "encoder_embd = Embedding(ENG_VOCAB_SIZE, 1024, mask_zero=True)(encoder_input)\n",
        "encoder_lstm = Bidirectional(LSTM(512, return_state=True))\n",
        "encoder_output, forw_state_h, forw_state_c, back_state_h, back_state_c = encoder_lstm(encoder_embd)\n",
        "\n",
        "state_h_final = Concatenate()([forw_state_h, back_state_h])\n",
        "state_c_final = Concatenate()([forw_state_c, back_state_c])\n",
        "encoder_states = [state_h_final, state_c_final]\n",
        "\n",
        "decoder_input = Input(shape=(None,))\n",
        "decoder_embd = Embedding(ARA_VOCAB_SIZE, 1024, mask_zero=True)(decoder_input)\n",
        "decoder_lstm = LSTM(1024, return_sequences=True, return_state=True)\n",
        "decoder_outputs, _, _ = decoder_lstm(decoder_embd, initial_state=encoder_states)\n",
        "decoder_dense = Dense(ARA_VOCAB_SIZE, activation='softmax')\n",
        "decoder_outputs = decoder_dense(decoder_outputs)\n",
        "\n",
        "model = Model([encoder_input, decoder_input], decoder_outputs)"
      ],
      "metadata": {
        "id": "vv9sUPFz1kll"
      },
      "execution_count": null,
      "outputs": []
    },
    {
      "cell_type": "markdown",
      "source": [
        "# 11. Compile the model"
      ],
      "metadata": {
        "id": "QzyE3gu51moK"
      }
    },
    {
      "cell_type": "code",
      "source": [
        "model.compile(optimizer='adam', loss='sparse_categorical_crossentropy', metrics=['accuracy'])"
      ],
      "metadata": {
        "id": "GSuPNurV1oYF"
      },
      "execution_count": null,
      "outputs": []
    },
    {
      "cell_type": "markdown",
      "source": [
        "# 12. Prepare training and testing data for the encoder-decoder model"
      ],
      "metadata": {
        "id": "iWIgBCbw1qE7"
      }
    },
    {
      "cell_type": "code",
      "source": [
        "encoder_input_data = X_train\n",
        "decoder_input_data = y_train[:, :-1]\n",
        "decoder_target_data = y_train[:, 1:]\n",
        "\n",
        "encoder_input_test = X_test\n",
        "decoder_input_test = y_test[:, :-1]\n",
        "decoder_target_test = y_test[:, 1:]"
      ],
      "metadata": {
        "id": "Ve4ql3dK1rud"
      },
      "execution_count": null,
      "outputs": []
    },
    {
      "cell_type": "markdown",
      "source": [
        "# 13. Train the model\n"
      ],
      "metadata": {
        "id": "Q0YSpRTY1tdJ"
      }
    },
    {
      "cell_type": "code",
      "source": [
        "history = model.fit([encoder_input_data, decoder_input_data], decoder_target_data,\n",
        "                    epochs=100, batch_size=128,\n",
        "                    validation_data=([encoder_input_test, decoder_input_test], decoder_target_test))"
      ],
      "metadata": {
        "id": "G_57THSi1usF",
        "colab": {
          "base_uri": "https://localhost:8080/"
        },
        "outputId": "d88f3523-0444-4065-abd1-9eea956ae5a6"
      },
      "execution_count": null,
      "outputs": [
        {
          "output_type": "stream",
          "name": "stdout",
          "text": [
            "Epoch 1/100\n",
            "\u001b[1m89/89\u001b[0m \u001b[32m━━━━━━━━━━━━━━━━━━━━\u001b[0m\u001b[37m\u001b[0m \u001b[1m40s\u001b[0m 375ms/step - accuracy: 0.2815 - loss: 6.9489 - val_accuracy: 0.0585 - val_loss: 5.5701\n",
            "Epoch 2/100\n",
            "\u001b[1m89/89\u001b[0m \u001b[32m━━━━━━━━━━━━━━━━━━━━\u001b[0m\u001b[37m\u001b[0m \u001b[1m40s\u001b[0m 406ms/step - accuracy: 0.0599 - loss: 5.1783 - val_accuracy: 0.0647 - val_loss: 5.2520\n",
            "Epoch 3/100\n",
            "\u001b[1m89/89\u001b[0m \u001b[32m━━━━━━━━━━━━━━━━━━━━\u001b[0m\u001b[37m\u001b[0m \u001b[1m39s\u001b[0m 388ms/step - accuracy: 0.0657 - loss: 4.4911 - val_accuracy: 0.0704 - val_loss: 4.9874\n",
            "Epoch 4/100\n",
            "\u001b[1m89/89\u001b[0m \u001b[32m━━━━━━━━━━━━━━━━━━━━\u001b[0m\u001b[37m\u001b[0m \u001b[1m42s\u001b[0m 400ms/step - accuracy: 0.0723 - loss: 3.7830 - val_accuracy: 0.0736 - val_loss: 4.8308\n",
            "Epoch 5/100\n",
            "\u001b[1m89/89\u001b[0m \u001b[32m━━━━━━━━━━━━━━━━━━━━\u001b[0m\u001b[37m\u001b[0m \u001b[1m35s\u001b[0m 394ms/step - accuracy: 0.0818 - loss: 3.0070 - val_accuracy: 0.0778 - val_loss: 4.7597\n",
            "Epoch 6/100\n",
            "\u001b[1m89/89\u001b[0m \u001b[32m━━━━━━━━━━━━━━━━━━━━\u001b[0m\u001b[37m\u001b[0m \u001b[1m41s\u001b[0m 397ms/step - accuracy: 0.0966 - loss: 2.2138 - val_accuracy: 0.0801 - val_loss: 4.7101\n",
            "Epoch 7/100\n",
            "\u001b[1m89/89\u001b[0m \u001b[32m━━━━━━━━━━━━━━━━━━━━\u001b[0m\u001b[37m\u001b[0m \u001b[1m41s\u001b[0m 396ms/step - accuracy: 0.1185 - loss: 1.5347 - val_accuracy: 0.0811 - val_loss: 4.7538\n",
            "Epoch 8/100\n",
            "\u001b[1m89/89\u001b[0m \u001b[32m━━━━━━━━━━━━━━━━━━━━\u001b[0m\u001b[37m\u001b[0m \u001b[1m35s\u001b[0m 397ms/step - accuracy: 0.1347 - loss: 1.0586 - val_accuracy: 0.0828 - val_loss: 4.8020\n",
            "Epoch 9/100\n",
            "\u001b[1m89/89\u001b[0m \u001b[32m━━━━━━━━━━━━━━━━━━━━\u001b[0m\u001b[37m\u001b[0m \u001b[1m41s\u001b[0m 396ms/step - accuracy: 0.1454 - loss: 0.7214 - val_accuracy: 0.0845 - val_loss: 4.8553\n",
            "Epoch 10/100\n",
            "\u001b[1m89/89\u001b[0m \u001b[32m━━━━━━━━━━━━━━━━━━━━\u001b[0m\u001b[37m\u001b[0m \u001b[1m41s\u001b[0m 397ms/step - accuracy: 0.1541 - loss: 0.4959 - val_accuracy: 0.0853 - val_loss: 4.9063\n",
            "Epoch 11/100\n",
            "\u001b[1m89/89\u001b[0m \u001b[32m━━━━━━━━━━━━━━━━━━━━\u001b[0m\u001b[37m\u001b[0m \u001b[1m35s\u001b[0m 396ms/step - accuracy: 0.1596 - loss: 0.3656 - val_accuracy: 0.0851 - val_loss: 4.9238\n",
            "Epoch 12/100\n",
            "\u001b[1m89/89\u001b[0m \u001b[32m━━━━━━━━━━━━━━━━━━━━\u001b[0m\u001b[37m\u001b[0m \u001b[1m41s\u001b[0m 397ms/step - accuracy: 0.1628 - loss: 0.2750 - val_accuracy: 0.0856 - val_loss: 4.9688\n",
            "Epoch 13/100\n",
            "\u001b[1m89/89\u001b[0m \u001b[32m━━━━━━━━━━━━━━━━━━━━\u001b[0m\u001b[37m\u001b[0m \u001b[1m41s\u001b[0m 395ms/step - accuracy: 0.1648 - loss: 0.2107 - val_accuracy: 0.0852 - val_loss: 5.0046\n",
            "Epoch 14/100\n",
            "\u001b[1m89/89\u001b[0m \u001b[32m━━━━━━━━━━━━━━━━━━━━\u001b[0m\u001b[37m\u001b[0m \u001b[1m41s\u001b[0m 397ms/step - accuracy: 0.1664 - loss: 0.1642 - val_accuracy: 0.0863 - val_loss: 5.0326\n",
            "Epoch 15/100\n",
            "\u001b[1m89/89\u001b[0m \u001b[32m━━━━━━━━━━━━━━━━━━━━\u001b[0m\u001b[37m\u001b[0m \u001b[1m41s\u001b[0m 396ms/step - accuracy: 0.1679 - loss: 0.1386 - val_accuracy: 0.0858 - val_loss: 5.0658\n",
            "Epoch 16/100\n",
            "\u001b[1m89/89\u001b[0m \u001b[32m━━━━━━━━━━━━━━━━━━━━\u001b[0m\u001b[37m\u001b[0m \u001b[1m41s\u001b[0m 395ms/step - accuracy: 0.1664 - loss: 0.1252 - val_accuracy: 0.0854 - val_loss: 5.0899\n",
            "Epoch 17/100\n",
            "\u001b[1m89/89\u001b[0m \u001b[32m━━━━━━━━━━━━━━━━━━━━\u001b[0m\u001b[37m\u001b[0m \u001b[1m41s\u001b[0m 396ms/step - accuracy: 0.1678 - loss: 0.1150 - val_accuracy: 0.0860 - val_loss: 5.1105\n",
            "Epoch 18/100\n",
            "\u001b[1m89/89\u001b[0m \u001b[32m━━━━━━━━━━━━━━━━━━━━\u001b[0m\u001b[37m\u001b[0m \u001b[1m41s\u001b[0m 395ms/step - accuracy: 0.1683 - loss: 0.1037 - val_accuracy: 0.0863 - val_loss: 5.1543\n",
            "Epoch 19/100\n",
            "\u001b[1m89/89\u001b[0m \u001b[32m━━━━━━━━━━━━━━━━━━━━\u001b[0m\u001b[37m\u001b[0m \u001b[1m41s\u001b[0m 395ms/step - accuracy: 0.1675 - loss: 0.0995 - val_accuracy: 0.0862 - val_loss: 5.1740\n",
            "Epoch 20/100\n",
            "\u001b[1m89/89\u001b[0m \u001b[32m━━━━━━━━━━━━━━━━━━━━\u001b[0m\u001b[37m\u001b[0m \u001b[1m41s\u001b[0m 396ms/step - accuracy: 0.1672 - loss: 0.0928 - val_accuracy: 0.0861 - val_loss: 5.2002\n",
            "Epoch 21/100\n",
            "\u001b[1m89/89\u001b[0m \u001b[32m━━━━━━━━━━━━━━━━━━━━\u001b[0m\u001b[37m\u001b[0m \u001b[1m41s\u001b[0m 395ms/step - accuracy: 0.1680 - loss: 0.0900 - val_accuracy: 0.0861 - val_loss: 5.2094\n",
            "Epoch 22/100\n",
            "\u001b[1m89/89\u001b[0m \u001b[32m━━━━━━━━━━━━━━━━━━━━\u001b[0m\u001b[37m\u001b[0m \u001b[1m41s\u001b[0m 396ms/step - accuracy: 0.1680 - loss: 0.0880 - val_accuracy: 0.0867 - val_loss: 5.2270\n",
            "Epoch 23/100\n",
            "\u001b[1m89/89\u001b[0m \u001b[32m━━━━━━━━━━━━━━━━━━━━\u001b[0m\u001b[37m\u001b[0m \u001b[1m41s\u001b[0m 396ms/step - accuracy: 0.1675 - loss: 0.0945 - val_accuracy: 0.0857 - val_loss: 5.2446\n",
            "Epoch 24/100\n",
            "\u001b[1m89/89\u001b[0m \u001b[32m━━━━━━━━━━━━━━━━━━━━\u001b[0m\u001b[37m\u001b[0m \u001b[1m41s\u001b[0m 395ms/step - accuracy: 0.1679 - loss: 0.0829 - val_accuracy: 0.0858 - val_loss: 5.2579\n",
            "Epoch 25/100\n",
            "\u001b[1m89/89\u001b[0m \u001b[32m━━━━━━━━━━━━━━━━━━━━\u001b[0m\u001b[37m\u001b[0m \u001b[1m41s\u001b[0m 396ms/step - accuracy: 0.1671 - loss: 0.0826 - val_accuracy: 0.0857 - val_loss: 5.2802\n",
            "Epoch 26/100\n",
            "\u001b[1m89/89\u001b[0m \u001b[32m━━━━━━━━━━━━━━━━━━━━\u001b[0m\u001b[37m\u001b[0m \u001b[1m35s\u001b[0m 396ms/step - accuracy: 0.1683 - loss: 0.0814 - val_accuracy: 0.0860 - val_loss: 5.2708\n",
            "Epoch 27/100\n",
            "\u001b[1m89/89\u001b[0m \u001b[32m━━━━━━━━━━━━━━━━━━━━\u001b[0m\u001b[37m\u001b[0m \u001b[1m41s\u001b[0m 395ms/step - accuracy: 0.1677 - loss: 0.0864 - val_accuracy: 0.0859 - val_loss: 5.2757\n",
            "Epoch 28/100\n",
            "\u001b[1m89/89\u001b[0m \u001b[32m━━━━━━━━━━━━━━━━━━━━\u001b[0m\u001b[37m\u001b[0m \u001b[1m41s\u001b[0m 397ms/step - accuracy: 0.1679 - loss: 0.0803 - val_accuracy: 0.0862 - val_loss: 5.2888\n",
            "Epoch 29/100\n",
            "\u001b[1m89/89\u001b[0m \u001b[32m━━━━━━━━━━━━━━━━━━━━\u001b[0m\u001b[37m\u001b[0m \u001b[1m41s\u001b[0m 395ms/step - accuracy: 0.1679 - loss: 0.0790 - val_accuracy: 0.0857 - val_loss: 5.3009\n",
            "Epoch 30/100\n",
            "\u001b[1m89/89\u001b[0m \u001b[32m━━━━━━━━━━━━━━━━━━━━\u001b[0m\u001b[37m\u001b[0m \u001b[1m41s\u001b[0m 396ms/step - accuracy: 0.1682 - loss: 0.0778 - val_accuracy: 0.0862 - val_loss: 5.3174\n",
            "Epoch 31/100\n",
            "\u001b[1m89/89\u001b[0m \u001b[32m━━━━━━━━━━━━━━━━━━━━\u001b[0m\u001b[37m\u001b[0m \u001b[1m41s\u001b[0m 395ms/step - accuracy: 0.1690 - loss: 0.0754 - val_accuracy: 0.0858 - val_loss: 5.3025\n",
            "Epoch 32/100\n",
            "\u001b[1m89/89\u001b[0m \u001b[32m━━━━━━━━━━━━━━━━━━━━\u001b[0m\u001b[37m\u001b[0m \u001b[1m41s\u001b[0m 395ms/step - accuracy: 0.1688 - loss: 0.0756 - val_accuracy: 0.0857 - val_loss: 5.3449\n",
            "Epoch 33/100\n",
            "\u001b[1m89/89\u001b[0m \u001b[32m━━━━━━━━━━━━━━━━━━━━\u001b[0m\u001b[37m\u001b[0m \u001b[1m41s\u001b[0m 396ms/step - accuracy: 0.1696 - loss: 0.0727 - val_accuracy: 0.0864 - val_loss: 5.3207\n",
            "Epoch 34/100\n",
            "\u001b[1m89/89\u001b[0m \u001b[32m━━━━━━━━━━━━━━━━━━━━\u001b[0m\u001b[37m\u001b[0m \u001b[1m41s\u001b[0m 395ms/step - accuracy: 0.1685 - loss: 0.0749 - val_accuracy: 0.0861 - val_loss: 5.3541\n",
            "Epoch 35/100\n",
            "\u001b[1m89/89\u001b[0m \u001b[32m━━━━━━━━━━━━━━━━━━━━\u001b[0m\u001b[37m\u001b[0m \u001b[1m41s\u001b[0m 396ms/step - accuracy: 0.1681 - loss: 0.0730 - val_accuracy: 0.0856 - val_loss: 5.3155\n",
            "Epoch 36/100\n",
            "\u001b[1m89/89\u001b[0m \u001b[32m━━━━━━━━━━━━━━━━━━━━\u001b[0m\u001b[37m\u001b[0m \u001b[1m41s\u001b[0m 396ms/step - accuracy: 0.1680 - loss: 0.0695 - val_accuracy: 0.0867 - val_loss: 5.3369\n",
            "Epoch 37/100\n",
            "\u001b[1m89/89\u001b[0m \u001b[32m━━━━━━━━━━━━━━━━━━━━\u001b[0m\u001b[37m\u001b[0m \u001b[1m35s\u001b[0m 396ms/step - accuracy: 0.1676 - loss: 0.0784 - val_accuracy: 0.0851 - val_loss: 5.3226\n",
            "Epoch 38/100\n",
            "\u001b[1m89/89\u001b[0m \u001b[32m━━━━━━━━━━━━━━━━━━━━\u001b[0m\u001b[37m\u001b[0m \u001b[1m41s\u001b[0m 396ms/step - accuracy: 0.1686 - loss: 0.0738 - val_accuracy: 0.0863 - val_loss: 5.3111\n",
            "Epoch 39/100\n",
            "\u001b[1m89/89\u001b[0m \u001b[32m━━━━━━━━━━━━━━━━━━━━\u001b[0m\u001b[37m\u001b[0m \u001b[1m41s\u001b[0m 396ms/step - accuracy: 0.1680 - loss: 0.0758 - val_accuracy: 0.0861 - val_loss: 5.3119\n",
            "Epoch 40/100\n",
            "\u001b[1m89/89\u001b[0m \u001b[32m━━━━━━━━━━━━━━━━━━━━\u001b[0m\u001b[37m\u001b[0m \u001b[1m35s\u001b[0m 397ms/step - accuracy: 0.1677 - loss: 0.0770 - val_accuracy: 0.0851 - val_loss: 5.3111\n",
            "Epoch 41/100\n",
            "\u001b[1m89/89\u001b[0m \u001b[32m━━━━━━━━━━━━━━━━━━━━\u001b[0m\u001b[37m\u001b[0m \u001b[1m41s\u001b[0m 395ms/step - accuracy: 0.1679 - loss: 0.0798 - val_accuracy: 0.0861 - val_loss: 5.3296\n",
            "Epoch 42/100\n",
            "\u001b[1m89/89\u001b[0m \u001b[32m━━━━━━━━━━━━━━━━━━━━\u001b[0m\u001b[37m\u001b[0m \u001b[1m35s\u001b[0m 397ms/step - accuracy: 0.1682 - loss: 0.0760 - val_accuracy: 0.0865 - val_loss: 5.3666\n",
            "Epoch 43/100\n",
            "\u001b[1m89/89\u001b[0m \u001b[32m━━━━━━━━━━━━━━━━━━━━\u001b[0m\u001b[37m\u001b[0m \u001b[1m41s\u001b[0m 395ms/step - accuracy: 0.1677 - loss: 0.0732 - val_accuracy: 0.0862 - val_loss: 5.3729\n",
            "Epoch 44/100\n",
            "\u001b[1m89/89\u001b[0m \u001b[32m━━━━━━━━━━━━━━━━━━━━\u001b[0m\u001b[37m\u001b[0m \u001b[1m41s\u001b[0m 396ms/step - accuracy: 0.1679 - loss: 0.0697 - val_accuracy: 0.0861 - val_loss: 5.3540\n",
            "Epoch 45/100\n",
            "\u001b[1m89/89\u001b[0m \u001b[32m━━━━━━━━━━━━━━━━━━━━\u001b[0m\u001b[37m\u001b[0m \u001b[1m35s\u001b[0m 395ms/step - accuracy: 0.1692 - loss: 0.0650 - val_accuracy: 0.0865 - val_loss: 5.3500\n",
            "Epoch 46/100\n",
            "\u001b[1m89/89\u001b[0m \u001b[32m━━━━━━━━━━━━━━━━━━━━\u001b[0m\u001b[37m\u001b[0m \u001b[1m41s\u001b[0m 396ms/step - accuracy: 0.1684 - loss: 0.0631 - val_accuracy: 0.0859 - val_loss: 5.3904\n",
            "Epoch 47/100\n",
            "\u001b[1m89/89\u001b[0m \u001b[32m━━━━━━━━━━━━━━━━━━━━\u001b[0m\u001b[37m\u001b[0m \u001b[1m41s\u001b[0m 396ms/step - accuracy: 0.1680 - loss: 0.0611 - val_accuracy: 0.0872 - val_loss: 5.3931\n",
            "Epoch 48/100\n",
            "\u001b[1m89/89\u001b[0m \u001b[32m━━━━━━━━━━━━━━━━━━━━\u001b[0m\u001b[37m\u001b[0m \u001b[1m42s\u001b[0m 409ms/step - accuracy: 0.1682 - loss: 0.0629 - val_accuracy: 0.0863 - val_loss: 5.3839\n",
            "Epoch 49/100\n",
            "\u001b[1m89/89\u001b[0m \u001b[32m━━━━━━━━━━━━━━━━━━━━\u001b[0m\u001b[37m\u001b[0m \u001b[1m40s\u001b[0m 395ms/step - accuracy: 0.1676 - loss: 0.0631 - val_accuracy: 0.0868 - val_loss: 5.3981\n",
            "Epoch 50/100\n",
            "\u001b[1m89/89\u001b[0m \u001b[32m━━━━━━━━━━━━━━━━━━━━\u001b[0m\u001b[37m\u001b[0m \u001b[1m35s\u001b[0m 396ms/step - accuracy: 0.1685 - loss: 0.0611 - val_accuracy: 0.0868 - val_loss: 5.3936\n",
            "Epoch 51/100\n",
            "\u001b[1m89/89\u001b[0m \u001b[32m━━━━━━━━━━━━━━━━━━━━\u001b[0m\u001b[37m\u001b[0m \u001b[1m35s\u001b[0m 394ms/step - accuracy: 0.1680 - loss: 0.0596 - val_accuracy: 0.0861 - val_loss: 5.3886\n",
            "Epoch 52/100\n",
            "\u001b[1m89/89\u001b[0m \u001b[32m━━━━━━━━━━━━━━━━━━━━\u001b[0m\u001b[37m\u001b[0m \u001b[1m41s\u001b[0m 397ms/step - accuracy: 0.1681 - loss: 0.0607 - val_accuracy: 0.0863 - val_loss: 5.3799\n",
            "Epoch 53/100\n",
            "\u001b[1m89/89\u001b[0m \u001b[32m━━━━━━━━━━━━━━━━━━━━\u001b[0m\u001b[37m\u001b[0m \u001b[1m41s\u001b[0m 396ms/step - accuracy: 0.1679 - loss: 0.0645 - val_accuracy: 0.0863 - val_loss: 5.3951\n",
            "Epoch 54/100\n",
            "\u001b[1m89/89\u001b[0m \u001b[32m━━━━━━━━━━━━━━━━━━━━\u001b[0m\u001b[37m\u001b[0m \u001b[1m41s\u001b[0m 396ms/step - accuracy: 0.1670 - loss: 0.0645 - val_accuracy: 0.0866 - val_loss: 5.3795\n",
            "Epoch 55/100\n",
            "\u001b[1m89/89\u001b[0m \u001b[32m━━━━━━━━━━━━━━━━━━━━\u001b[0m\u001b[37m\u001b[0m \u001b[1m41s\u001b[0m 395ms/step - accuracy: 0.1677 - loss: 0.0649 - val_accuracy: 0.0863 - val_loss: 5.3684\n",
            "Epoch 56/100\n",
            "\u001b[1m89/89\u001b[0m \u001b[32m━━━━━━━━━━━━━━━━━━━━\u001b[0m\u001b[37m\u001b[0m \u001b[1m41s\u001b[0m 395ms/step - accuracy: 0.1684 - loss: 0.0644 - val_accuracy: 0.0861 - val_loss: 5.3768\n",
            "Epoch 57/100\n",
            "\u001b[1m89/89\u001b[0m \u001b[32m━━━━━━━━━━━━━━━━━━━━\u001b[0m\u001b[37m\u001b[0m \u001b[1m42s\u001b[0m 409ms/step - accuracy: 0.1682 - loss: 0.0627 - val_accuracy: 0.0863 - val_loss: 5.4319\n",
            "Epoch 58/100\n",
            "\u001b[1m89/89\u001b[0m \u001b[32m━━━━━━━━━━━━━━━━━━━━\u001b[0m\u001b[37m\u001b[0m \u001b[1m40s\u001b[0m 396ms/step - accuracy: 0.1680 - loss: 0.0645 - val_accuracy: 0.0859 - val_loss: 5.3849\n",
            "Epoch 59/100\n",
            "\u001b[1m89/89\u001b[0m \u001b[32m━━━━━━━━━━━━━━━━━━━━\u001b[0m\u001b[37m\u001b[0m \u001b[1m41s\u001b[0m 396ms/step - accuracy: 0.1671 - loss: 0.0687 - val_accuracy: 0.0869 - val_loss: 5.4300\n",
            "Epoch 60/100\n",
            "\u001b[1m89/89\u001b[0m \u001b[32m━━━━━━━━━━━━━━━━━━━━\u001b[0m\u001b[37m\u001b[0m \u001b[1m41s\u001b[0m 395ms/step - accuracy: 0.1681 - loss: 0.0737 - val_accuracy: 0.0856 - val_loss: 5.4212\n",
            "Epoch 61/100\n",
            "\u001b[1m89/89\u001b[0m \u001b[32m━━━━━━━━━━━━━━━━━━━━\u001b[0m\u001b[37m\u001b[0m \u001b[1m41s\u001b[0m 396ms/step - accuracy: 0.1665 - loss: 0.0747 - val_accuracy: 0.0849 - val_loss: 5.3985\n",
            "Epoch 62/100\n",
            "\u001b[1m89/89\u001b[0m \u001b[32m━━━━━━━━━━━━━━━━━━━━\u001b[0m\u001b[37m\u001b[0m \u001b[1m41s\u001b[0m 395ms/step - accuracy: 0.1672 - loss: 0.0965 - val_accuracy: 0.0854 - val_loss: 5.4394\n",
            "Epoch 63/100\n",
            "\u001b[1m89/89\u001b[0m \u001b[32m━━━━━━━━━━━━━━━━━━━━\u001b[0m\u001b[37m\u001b[0m \u001b[1m41s\u001b[0m 396ms/step - accuracy: 0.1666 - loss: 0.0897 - val_accuracy: 0.0843 - val_loss: 5.4474\n",
            "Epoch 64/100\n",
            "\u001b[1m89/89\u001b[0m \u001b[32m━━━━━━━━━━━━━━━━━━━━\u001b[0m\u001b[37m\u001b[0m \u001b[1m35s\u001b[0m 395ms/step - accuracy: 0.1673 - loss: 0.0872 - val_accuracy: 0.0857 - val_loss: 5.4821\n",
            "Epoch 65/100\n",
            "\u001b[1m89/89\u001b[0m \u001b[32m━━━━━━━━━━━━━━━━━━━━\u001b[0m\u001b[37m\u001b[0m \u001b[1m35s\u001b[0m 396ms/step - accuracy: 0.1676 - loss: 0.0795 - val_accuracy: 0.0855 - val_loss: 5.4420\n",
            "Epoch 66/100\n",
            "\u001b[1m89/89\u001b[0m \u001b[32m━━━━━━━━━━━━━━━━━━━━\u001b[0m\u001b[37m\u001b[0m \u001b[1m35s\u001b[0m 397ms/step - accuracy: 0.1678 - loss: 0.0647 - val_accuracy: 0.0864 - val_loss: 5.4694\n",
            "Epoch 67/100\n",
            "\u001b[1m89/89\u001b[0m \u001b[32m━━━━━━━━━━━━━━━━━━━━\u001b[0m\u001b[37m\u001b[0m \u001b[1m41s\u001b[0m 397ms/step - accuracy: 0.1680 - loss: 0.0624 - val_accuracy: 0.0858 - val_loss: 5.4743\n",
            "Epoch 68/100\n",
            "\u001b[1m89/89\u001b[0m \u001b[32m━━━━━━━━━━━━━━━━━━━━\u001b[0m\u001b[37m\u001b[0m \u001b[1m41s\u001b[0m 396ms/step - accuracy: 0.1678 - loss: 0.0573 - val_accuracy: 0.0865 - val_loss: 5.4563\n",
            "Epoch 69/100\n",
            "\u001b[1m89/89\u001b[0m \u001b[32m━━━━━━━━━━━━━━━━━━━━\u001b[0m\u001b[37m\u001b[0m \u001b[1m41s\u001b[0m 396ms/step - accuracy: 0.1680 - loss: 0.0524 - val_accuracy: 0.0870 - val_loss: 5.4693\n",
            "Epoch 70/100\n",
            "\u001b[1m89/89\u001b[0m \u001b[32m━━━━━━━━━━━━━━━━━━━━\u001b[0m\u001b[37m\u001b[0m \u001b[1m42s\u001b[0m 410ms/step - accuracy: 0.1679 - loss: 0.0541 - val_accuracy: 0.0866 - val_loss: 5.4860\n",
            "Epoch 71/100\n",
            "\u001b[1m89/89\u001b[0m \u001b[32m━━━━━━━━━━━━━━━━━━━━\u001b[0m\u001b[37m\u001b[0m \u001b[1m40s\u001b[0m 395ms/step - accuracy: 0.1680 - loss: 0.0558 - val_accuracy: 0.0868 - val_loss: 5.4548\n",
            "Epoch 72/100\n",
            "\u001b[1m89/89\u001b[0m \u001b[32m━━━━━━━━━━━━━━━━━━━━\u001b[0m\u001b[37m\u001b[0m \u001b[1m35s\u001b[0m 396ms/step - accuracy: 0.1677 - loss: 0.0508 - val_accuracy: 0.0863 - val_loss: 5.4847\n",
            "Epoch 73/100\n",
            "\u001b[1m89/89\u001b[0m \u001b[32m━━━━━━━━━━━━━━━━━━━━\u001b[0m\u001b[37m\u001b[0m \u001b[1m41s\u001b[0m 395ms/step - accuracy: 0.1687 - loss: 0.0527 - val_accuracy: 0.0860 - val_loss: 5.4571\n",
            "Epoch 74/100\n",
            "\u001b[1m89/89\u001b[0m \u001b[32m━━━━━━━━━━━━━━━━━━━━\u001b[0m\u001b[37m\u001b[0m \u001b[1m41s\u001b[0m 397ms/step - accuracy: 0.1683 - loss: 0.0522 - val_accuracy: 0.0860 - val_loss: 5.4943\n",
            "Epoch 75/100\n",
            "\u001b[1m89/89\u001b[0m \u001b[32m━━━━━━━━━━━━━━━━━━━━\u001b[0m\u001b[37m\u001b[0m \u001b[1m41s\u001b[0m 395ms/step - accuracy: 0.1682 - loss: 0.0540 - val_accuracy: 0.0865 - val_loss: 5.4837\n",
            "Epoch 76/100\n",
            "\u001b[1m89/89\u001b[0m \u001b[32m━━━━━━━━━━━━━━━━━━━━\u001b[0m\u001b[37m\u001b[0m \u001b[1m41s\u001b[0m 396ms/step - accuracy: 0.1686 - loss: 0.0522 - val_accuracy: 0.0866 - val_loss: 5.4849\n",
            "Epoch 77/100\n",
            "\u001b[1m89/89\u001b[0m \u001b[32m━━━━━━━━━━━━━━━━━━━━\u001b[0m\u001b[37m\u001b[0m \u001b[1m35s\u001b[0m 396ms/step - accuracy: 0.1679 - loss: 0.0519 - val_accuracy: 0.0866 - val_loss: 5.4835\n",
            "Epoch 78/100\n",
            "\u001b[1m89/89\u001b[0m \u001b[32m━━━━━━━━━━━━━━━━━━━━\u001b[0m\u001b[37m\u001b[0m \u001b[1m41s\u001b[0m 396ms/step - accuracy: 0.1683 - loss: 0.0497 - val_accuracy: 0.0858 - val_loss: 5.5095\n",
            "Epoch 79/100\n",
            "\u001b[1m89/89\u001b[0m \u001b[32m━━━━━━━━━━━━━━━━━━━━\u001b[0m\u001b[37m\u001b[0m \u001b[1m41s\u001b[0m 396ms/step - accuracy: 0.1680 - loss: 0.0528 - val_accuracy: 0.0864 - val_loss: 5.4440\n",
            "Epoch 80/100\n",
            "\u001b[1m89/89\u001b[0m \u001b[32m━━━━━━━━━━━━━━━━━━━━\u001b[0m\u001b[37m\u001b[0m \u001b[1m41s\u001b[0m 395ms/step - accuracy: 0.1681 - loss: 0.0528 - val_accuracy: 0.0861 - val_loss: 5.5102\n",
            "Epoch 81/100\n",
            "\u001b[1m89/89\u001b[0m \u001b[32m━━━━━━━━━━━━━━━━━━━━\u001b[0m\u001b[37m\u001b[0m \u001b[1m35s\u001b[0m 396ms/step - accuracy: 0.1682 - loss: 0.0491 - val_accuracy: 0.0866 - val_loss: 5.4945\n",
            "Epoch 82/100\n",
            "\u001b[1m89/89\u001b[0m \u001b[32m━━━━━━━━━━━━━━━━━━━━\u001b[0m\u001b[37m\u001b[0m \u001b[1m41s\u001b[0m 396ms/step - accuracy: 0.1677 - loss: 0.0502 - val_accuracy: 0.0862 - val_loss: 5.4923\n",
            "Epoch 83/100\n",
            "\u001b[1m89/89\u001b[0m \u001b[32m━━━━━━━━━━━━━━━━━━━━\u001b[0m\u001b[37m\u001b[0m \u001b[1m35s\u001b[0m 397ms/step - accuracy: 0.1682 - loss: 0.0490 - val_accuracy: 0.0867 - val_loss: 5.5169\n",
            "Epoch 84/100\n",
            "\u001b[1m89/89\u001b[0m \u001b[32m━━━━━━━━━━━━━━━━━━━━\u001b[0m\u001b[37m\u001b[0m \u001b[1m41s\u001b[0m 395ms/step - accuracy: 0.1679 - loss: 0.0512 - val_accuracy: 0.0859 - val_loss: 5.4973\n",
            "Epoch 85/100\n",
            "\u001b[1m89/89\u001b[0m \u001b[32m━━━━━━━━━━━━━━━━━━━━\u001b[0m\u001b[37m\u001b[0m \u001b[1m42s\u001b[0m 410ms/step - accuracy: 0.1678 - loss: 0.0507 - val_accuracy: 0.0865 - val_loss: 5.4985\n",
            "Epoch 86/100\n",
            "\u001b[1m89/89\u001b[0m \u001b[32m━━━━━━━━━━━━━━━━━━━━\u001b[0m\u001b[37m\u001b[0m \u001b[1m36s\u001b[0m 410ms/step - accuracy: 0.1683 - loss: 0.0493 - val_accuracy: 0.0864 - val_loss: 5.5689\n",
            "Epoch 87/100\n",
            "\u001b[1m89/89\u001b[0m \u001b[32m━━━━━━━━━━━━━━━━━━━━\u001b[0m\u001b[37m\u001b[0m \u001b[1m40s\u001b[0m 397ms/step - accuracy: 0.1690 - loss: 0.0479 - val_accuracy: 0.0867 - val_loss: 5.5023\n",
            "Epoch 88/100\n",
            "\u001b[1m89/89\u001b[0m \u001b[32m━━━━━━━━━━━━━━━━━━━━\u001b[0m\u001b[37m\u001b[0m \u001b[1m41s\u001b[0m 396ms/step - accuracy: 0.1678 - loss: 0.0515 - val_accuracy: 0.0860 - val_loss: 5.5493\n",
            "Epoch 89/100\n",
            "\u001b[1m89/89\u001b[0m \u001b[32m━━━━━━━━━━━━━━━━━━━━\u001b[0m\u001b[37m\u001b[0m \u001b[1m41s\u001b[0m 396ms/step - accuracy: 0.1683 - loss: 0.0525 - val_accuracy: 0.0857 - val_loss: 5.4999\n",
            "Epoch 90/100\n",
            "\u001b[1m89/89\u001b[0m \u001b[32m━━━━━━━━━━━━━━━━━━━━\u001b[0m\u001b[37m\u001b[0m \u001b[1m41s\u001b[0m 396ms/step - accuracy: 0.1688 - loss: 0.0498 - val_accuracy: 0.0868 - val_loss: 5.5799\n",
            "Epoch 91/100\n",
            "\u001b[1m89/89\u001b[0m \u001b[32m━━━━━━━━━━━━━━━━━━━━\u001b[0m\u001b[37m\u001b[0m \u001b[1m41s\u001b[0m 396ms/step - accuracy: 0.1681 - loss: 0.0503 - val_accuracy: 0.0865 - val_loss: 5.5485\n",
            "Epoch 92/100\n",
            "\u001b[1m89/89\u001b[0m \u001b[32m━━━━━━━━━━━━━━━━━━━━\u001b[0m\u001b[37m\u001b[0m \u001b[1m41s\u001b[0m 396ms/step - accuracy: 0.1678 - loss: 0.0513 - val_accuracy: 0.0859 - val_loss: 5.5118\n",
            "Epoch 93/100\n",
            "\u001b[1m89/89\u001b[0m \u001b[32m━━━━━━━━━━━━━━━━━━━━\u001b[0m\u001b[37m\u001b[0m \u001b[1m35s\u001b[0m 396ms/step - accuracy: 0.1680 - loss: 0.0520 - val_accuracy: 0.0860 - val_loss: 5.4965\n",
            "Epoch 94/100\n",
            "\u001b[1m89/89\u001b[0m \u001b[32m━━━━━━━━━━━━━━━━━━━━\u001b[0m\u001b[37m\u001b[0m \u001b[1m41s\u001b[0m 396ms/step - accuracy: 0.1680 - loss: 0.0535 - val_accuracy: 0.0862 - val_loss: 5.5963\n",
            "Epoch 95/100\n",
            "\u001b[1m89/89\u001b[0m \u001b[32m━━━━━━━━━━━━━━━━━━━━\u001b[0m\u001b[37m\u001b[0m \u001b[1m41s\u001b[0m 396ms/step - accuracy: 0.1676 - loss: 0.0594 - val_accuracy: 0.0858 - val_loss: 5.5743\n",
            "Epoch 96/100\n",
            "\u001b[1m89/89\u001b[0m \u001b[32m━━━━━━━━━━━━━━━━━━━━\u001b[0m\u001b[37m\u001b[0m \u001b[1m41s\u001b[0m 396ms/step - accuracy: 0.1676 - loss: 0.0611 - val_accuracy: 0.0861 - val_loss: 5.5731\n",
            "Epoch 97/100\n",
            "\u001b[1m89/89\u001b[0m \u001b[32m━━━━━━━━━━━━━━━━━━━━\u001b[0m\u001b[37m\u001b[0m \u001b[1m41s\u001b[0m 396ms/step - accuracy: 0.1683 - loss: 0.0622 - val_accuracy: 0.0860 - val_loss: 5.5155\n",
            "Epoch 98/100\n",
            "\u001b[1m89/89\u001b[0m \u001b[32m━━━━━━━━━━━━━━━━━━━━\u001b[0m\u001b[37m\u001b[0m \u001b[1m41s\u001b[0m 396ms/step - accuracy: 0.1672 - loss: 0.0650 - val_accuracy: 0.0847 - val_loss: 5.6123\n",
            "Epoch 99/100\n",
            "\u001b[1m89/89\u001b[0m \u001b[32m━━━━━━━━━━━━━━━━━━━━\u001b[0m\u001b[37m\u001b[0m \u001b[1m35s\u001b[0m 396ms/step - accuracy: 0.1684 - loss: 0.0618 - val_accuracy: 0.0858 - val_loss: 5.5446\n",
            "Epoch 100/100\n",
            "\u001b[1m89/89\u001b[0m \u001b[32m━━━━━━━━━━━━━━━━━━━━\u001b[0m\u001b[37m\u001b[0m \u001b[1m41s\u001b[0m 396ms/step - accuracy: 0.1678 - loss: 0.0556 - val_accuracy: 0.0869 - val_loss: 5.5574\n"
          ]
        }
      ]
    },
    {
      "cell_type": "markdown",
      "source": [
        "# 14. Save the trained model"
      ],
      "metadata": {
        "id": "qG9XqOhI1x2b"
      }
    },
    {
      "cell_type": "code",
      "source": [
        "model.save(\"/content/Model/modellstm4.h5\")"
      ],
      "metadata": {
        "id": "lB9ImmzT1zLW",
        "colab": {
          "base_uri": "https://localhost:8080/"
        },
        "outputId": "8a49cbce-698d-4ff0-95ab-425c7779fc26"
      },
      "execution_count": null,
      "outputs": [
        {
          "output_type": "stream",
          "name": "stderr",
          "text": [
            "WARNING:absl:You are saving your model as an HDF5 file via `model.save()` or `keras.saving.save_model(model)`. This file format is considered legacy. We recommend using instead the native Keras format, e.g. `model.save('my_model.keras')` or `keras.saving.save_model(model, 'my_model.keras')`. \n"
          ]
        }
      ]
    },
    {
      "cell_type": "markdown",
      "source": [
        "# 15. Build the inference model (encoder and decoder)"
      ],
      "metadata": {
        "id": "BLNtlyaF10yk"
      }
    },
    {
      "cell_type": "code",
      "source": [
        "encoder_model = Model(encoder_input, encoder_states)\n",
        "\n",
        "decoder_state_input_h = Input(shape=(1024,))\n",
        "decoder_state_input_c = Input(shape=(1024,))\n",
        "decoder_states_input = [decoder_state_input_h, decoder_state_input_c]\n",
        "\n",
        "decoder_outputs, state_h, state_c = decoder_lstm(decoder_embd, initial_state=decoder_states_input)\n",
        "decoder_states = [state_h, state_c]\n",
        "decoder_outputs = decoder_dense(decoder_outputs)\n",
        "\n",
        "decoder_model = Model([decoder_input] + decoder_states_input, [decoder_outputs] + decoder_states)"
      ],
      "metadata": {
        "id": "QzKJSHJT119O"
      },
      "execution_count": null,
      "outputs": []
    },
    {
      "cell_type": "markdown",
      "source": [
        "# 16. Function to convert predicted sequences into sentences"
      ],
      "metadata": {
        "id": "D33O5uBg1378"
      }
    },
    {
      "cell_type": "code",
      "source": [
        "def get_predicted_sentence(input_seq):\n",
        "    states_value = encoder_model.predict(input_seq)\n",
        "    target_seq = np.zeros((1, 1))\n",
        "    target_seq[0, 0] = ara_word_index['sos']\n",
        "    decoded_sentence = ''\n",
        "\n",
        "    while True:\n",
        "        output_tokens, h, c = decoder_model.predict([target_seq] + states_value)\n",
        "        sampled_token_index = np.argmax(output_tokens[0, -1, :])\n",
        "        sampled_char = ara_index_word[sampled_token_index]\n",
        "\n",
        "        if sampled_char == 'eos' or len(decoded_sentence) >= 37:\n",
        "            break\n",
        "\n",
        "        decoded_sentence += ' ' + sampled_char\n",
        "        target_seq[0, 0] = sampled_token_index\n",
        "        states_value = [h, c]\n",
        "\n",
        "    return decoded_sentence"
      ],
      "metadata": {
        "id": "Y0e6EOsQ15Nt"
      },
      "execution_count": null,
      "outputs": []
    },
    {
      "cell_type": "code",
      "source": [
        "def get_eng_sent(encoded_sentence):\n",
        "  \"\"\"\n",
        "  This function decodes an encoded English sentence back to English text.\n",
        "  \"\"\"\n",
        "  decoded_sentence = ''\n",
        "  for index in encoded_sentence:\n",
        "    if index != 0:  # Exclude padding or special tokens if any\n",
        "      decoded_sentence += eng_index_word[index] + ' '\n",
        "  return decoded_sentence.strip()  # Remove trailing space\n"
      ],
      "metadata": {
        "id": "amipEVCbIXH_"
      },
      "execution_count": null,
      "outputs": []
    },
    {
      "cell_type": "code",
      "source": [
        "def get_arabic_sentence(encoded_sentence):\n",
        "  \"\"\"\n",
        "  This function decodes an encoded Arabic sentence back to Arabic text.\n",
        "  \"\"\"\n",
        "  decoded_sentence = ''\n",
        "  for index in encoded_sentence:\n",
        "    if index != 0:  # Exclude padding or special tokens if any\n",
        "      # Check if index is within the bounds of ara_index_word keys\n",
        "      if index in ara_index_word:\n",
        "        decoded_sentence += ara_index_word[index] + ' '\n",
        "      else:\n",
        "        # Handle the case where the index is not found in ara_index_word\n",
        "        decoded_sentence += '<UNK> '  # Replace with a placeholder or handle differently\n",
        "  return decoded_sentence.strip()  # Remove trailing space"
      ],
      "metadata": {
        "id": "dPLzFt_bIipv"
      },
      "execution_count": null,
      "outputs": []
    },
    {
      "cell_type": "markdown",
      "source": [
        "# 17. Translate sample test sentences"
      ],
      "metadata": {
        "id": "gBQJU4YP16z9"
      }
    },
    {
      "cell_type": "code",
      "source": [
        "for i in range(20):\n",
        "    print(\"English sentence:\", get_eng_sent(X_test[i]))\n",
        "    print(\"Actual Arabic Sentence:\", get_arabic_sentence(y_test[i]))\n",
        "    print(\"Translated Arabic Sentence:\", get_predicted_sentence(X_test[i].reshape(1, 37))[:-4])\n",
        "    print(\"\\n\")"
      ],
      "metadata": {
        "id": "Tx3xiClC18W_",
        "colab": {
          "base_uri": "https://localhost:8080/"
        },
        "outputId": "c8d451a3-28c8-4060-f835-bf2ab847eaac"
      },
      "execution_count": null,
      "outputs": [
        {
          "output_type": "stream",
          "name": "stdout",
          "text": [
            "English sentence: sorry my mistake\n",
            "Actual Arabic Sentence: sos متأسف، إنه خطأي eos\n",
            "\u001b[1m1/1\u001b[0m \u001b[32m━━━━━━━━━━━━━━━━━━━━\u001b[0m\u001b[37m\u001b[0m \u001b[1m0s\u001b[0m 419ms/step\n",
            "\u001b[1m1/1\u001b[0m \u001b[32m━━━━━━━━━━━━━━━━━━━━\u001b[0m\u001b[37m\u001b[0m \u001b[1m0s\u001b[0m 199ms/step\n",
            "\u001b[1m1/1\u001b[0m \u001b[32m━━━━━━━━━━━━━━━━━━━━\u001b[0m\u001b[37m\u001b[0m \u001b[1m0s\u001b[0m 18ms/step\n",
            "\u001b[1m1/1\u001b[0m \u001b[32m━━━━━━━━━━━━━━━━━━━━\u001b[0m\u001b[37m\u001b[0m \u001b[1m0s\u001b[0m 18ms/step\n",
            "Translated Arabic Sentence:  دعني \n",
            "\n",
            "\n",
            "English sentence: when can we eat\n",
            "Actual Arabic Sentence: sos متى يمكننا الأكل؟ eos\n",
            "\u001b[1m1/1\u001b[0m \u001b[32m━━━━━━━━━━━━━━━━━━━━\u001b[0m\u001b[37m\u001b[0m \u001b[1m0s\u001b[0m 18ms/step\n",
            "\u001b[1m1/1\u001b[0m \u001b[32m━━━━━━━━━━━━━━━━━━━━\u001b[0m\u001b[37m\u001b[0m \u001b[1m0s\u001b[0m 18ms/step\n",
            "\u001b[1m1/1\u001b[0m \u001b[32m━━━━━━━━━━━━━━━━━━━━\u001b[0m\u001b[37m\u001b[0m \u001b[1m0s\u001b[0m 18ms/step\n",
            "\u001b[1m1/1\u001b[0m \u001b[32m━━━━━━━━━━━━━━━━━━━━\u001b[0m\u001b[37m\u001b[0m \u001b[1m0s\u001b[0m 18ms/step\n",
            "\u001b[1m1/1\u001b[0m \u001b[32m━━━━━━━━━━━━━━━━━━━━\u001b[0m\u001b[37m\u001b[0m \u001b[1m0s\u001b[0m 18ms/step\n",
            "Translated Arabic Sentence:  متى سيبدأ الف\n",
            "\n",
            "\n",
            "English sentence: my father is not reading a book now\n",
            "Actual Arabic Sentence: sos أبي لا يقرأ كتاباً الآن eos\n",
            "\u001b[1m1/1\u001b[0m \u001b[32m━━━━━━━━━━━━━━━━━━━━\u001b[0m\u001b[37m\u001b[0m \u001b[1m0s\u001b[0m 19ms/step\n",
            "\u001b[1m1/1\u001b[0m \u001b[32m━━━━━━━━━━━━━━━━━━━━\u001b[0m\u001b[37m\u001b[0m \u001b[1m0s\u001b[0m 18ms/step\n",
            "\u001b[1m1/1\u001b[0m \u001b[32m━━━━━━━━━━━━━━━━━━━━\u001b[0m\u001b[37m\u001b[0m \u001b[1m0s\u001b[0m 24ms/step\n",
            "\u001b[1m1/1\u001b[0m \u001b[32m━━━━━━━━━━━━━━━━━━━━\u001b[0m\u001b[37m\u001b[0m \u001b[1m0s\u001b[0m 18ms/step\n",
            "\u001b[1m1/1\u001b[0m \u001b[32m━━━━━━━━━━━━━━━━━━━━\u001b[0m\u001b[37m\u001b[0m \u001b[1m0s\u001b[0m 23ms/step\n",
            "\u001b[1m1/1\u001b[0m \u001b[32m━━━━━━━━━━━━━━━━━━━━\u001b[0m\u001b[37m\u001b[0m \u001b[1m0s\u001b[0m 21ms/step\n",
            "\u001b[1m1/1\u001b[0m \u001b[32m━━━━━━━━━━━━━━━━━━━━\u001b[0m\u001b[37m\u001b[0m \u001b[1m0s\u001b[0m 18ms/step\n",
            "Translated Arabic Sentence:  أبي ليس في غاية ا\n",
            "\n",
            "\n",
            "English sentence: the sisters are both blondes\n",
            "Actual Arabic Sentence: sos الأختان شقراوتان eos\n",
            "\u001b[1m1/1\u001b[0m \u001b[32m━━━━━━━━━━━━━━━━━━━━\u001b[0m\u001b[37m\u001b[0m \u001b[1m0s\u001b[0m 17ms/step\n",
            "\u001b[1m1/1\u001b[0m \u001b[32m━━━━━━━━━━━━━━━━━━━━\u001b[0m\u001b[37m\u001b[0m \u001b[1m0s\u001b[0m 20ms/step\n",
            "\u001b[1m1/1\u001b[0m \u001b[32m━━━━━━━━━━━━━━━━━━━━\u001b[0m\u001b[37m\u001b[0m \u001b[1m0s\u001b[0m 20ms/step\n",
            "\u001b[1m1/1\u001b[0m \u001b[32m━━━━━━━━━━━━━━━━━━━━\u001b[0m\u001b[37m\u001b[0m \u001b[1m0s\u001b[0m 19ms/step\n",
            "\u001b[1m1/1\u001b[0m \u001b[32m━━━━━━━━━━━━━━━━━━━━\u001b[0m\u001b[37m\u001b[0m \u001b[1m0s\u001b[0m 19ms/step\n",
            "\u001b[1m1/1\u001b[0m \u001b[32m━━━━━━━━━━━━━━━━━━━━\u001b[0m\u001b[37m\u001b[0m \u001b[1m0s\u001b[0m 18ms/step\n",
            "Translated Arabic Sentence:  هناك شخصٌ إلا ل\n",
            "\n",
            "\n",
            "English sentence: hey get off my bike\n",
            "Actual Arabic Sentence: sos أنتَ، انزل عن درّاجتي eos\n",
            "\u001b[1m1/1\u001b[0m \u001b[32m━━━━━━━━━━━━━━━━━━━━\u001b[0m\u001b[37m\u001b[0m \u001b[1m0s\u001b[0m 20ms/step\n",
            "\u001b[1m1/1\u001b[0m \u001b[32m━━━━━━━━━━━━━━━━━━━━\u001b[0m\u001b[37m\u001b[0m \u001b[1m0s\u001b[0m 19ms/step\n",
            "\u001b[1m1/1\u001b[0m \u001b[32m━━━━━━━━━━━━━━━━━━━━\u001b[0m\u001b[37m\u001b[0m \u001b[1m0s\u001b[0m 19ms/step\n",
            "\u001b[1m1/1\u001b[0m \u001b[32m━━━━━━━━━━━━━━━━━━━━\u001b[0m\u001b[37m\u001b[0m \u001b[1m0s\u001b[0m 20ms/step\n",
            "\u001b[1m1/1\u001b[0m \u001b[32m━━━━━━━━━━━━━━━━━━━━\u001b[0m\u001b[37m\u001b[0m \u001b[1m0s\u001b[0m 18ms/step\n",
            "\u001b[1m1/1\u001b[0m \u001b[32m━━━━━━━━━━━━━━━━━━━━\u001b[0m\u001b[37m\u001b[0m \u001b[1m0s\u001b[0m 22ms/step\n",
            "Translated Arabic Sentence:  أنتِ، انزلي عن درّ\n",
            "\n",
            "\n",
            "English sentence: what did you answer\n",
            "Actual Arabic Sentence: sos بماذا أجبت؟ eos\n",
            "\u001b[1m1/1\u001b[0m \u001b[32m━━━━━━━━━━━━━━━━━━━━\u001b[0m\u001b[37m\u001b[0m \u001b[1m0s\u001b[0m 24ms/step\n",
            "\u001b[1m1/1\u001b[0m \u001b[32m━━━━━━━━━━━━━━━━━━━━\u001b[0m\u001b[37m\u001b[0m \u001b[1m0s\u001b[0m 18ms/step\n",
            "\u001b[1m1/1\u001b[0m \u001b[32m━━━━━━━━━━━━━━━━━━━━\u001b[0m\u001b[37m\u001b[0m \u001b[1m0s\u001b[0m 19ms/step\n",
            "\u001b[1m1/1\u001b[0m \u001b[32m━━━━━━━━━━━━━━━━━━━━\u001b[0m\u001b[37m\u001b[0m \u001b[1m0s\u001b[0m 19ms/step\n",
            "Translated Arabic Sentence:  ماذا \n",
            "\n",
            "\n",
            "English sentence: we have little chance of winning\n",
            "Actual Arabic Sentence: sos فرصتنا في الفوز ضئيلة eos\n",
            "\u001b[1m1/1\u001b[0m \u001b[32m━━━━━━━━━━━━━━━━━━━━\u001b[0m\u001b[37m\u001b[0m \u001b[1m0s\u001b[0m 19ms/step\n",
            "\u001b[1m1/1\u001b[0m \u001b[32m━━━━━━━━━━━━━━━━━━━━\u001b[0m\u001b[37m\u001b[0m \u001b[1m0s\u001b[0m 23ms/step\n",
            "\u001b[1m1/1\u001b[0m \u001b[32m━━━━━━━━━━━━━━━━━━━━\u001b[0m\u001b[37m\u001b[0m \u001b[1m0s\u001b[0m 19ms/step\n",
            "\u001b[1m1/1\u001b[0m \u001b[32m━━━━━━━━━━━━━━━━━━━━\u001b[0m\u001b[37m\u001b[0m \u001b[1m0s\u001b[0m 18ms/step\n",
            "\u001b[1m1/1\u001b[0m \u001b[32m━━━━━━━━━━━━━━━━━━━━\u001b[0m\u001b[37m\u001b[0m \u001b[1m0s\u001b[0m 18ms/step\n",
            "\u001b[1m1/1\u001b[0m \u001b[32m━━━━━━━━━━━━━━━━━━━━\u001b[0m\u001b[37m\u001b[0m \u001b[1m0s\u001b[0m 21ms/step\n",
            "Translated Arabic Sentence:  لدينا الكثير من ا\n",
            "\n",
            "\n",
            "English sentence: i am trying to find a way to make money\n",
            "Actual Arabic Sentence: sos احاول العثور على طريقة لجمع الأموال eos\n",
            "\u001b[1m1/1\u001b[0m \u001b[32m━━━━━━━━━━━━━━━━━━━━\u001b[0m\u001b[37m\u001b[0m \u001b[1m0s\u001b[0m 17ms/step\n",
            "\u001b[1m1/1\u001b[0m \u001b[32m━━━━━━━━━━━━━━━━━━━━\u001b[0m\u001b[37m\u001b[0m \u001b[1m0s\u001b[0m 18ms/step\n",
            "\u001b[1m1/1\u001b[0m \u001b[32m━━━━━━━━━━━━━━━━━━━━\u001b[0m\u001b[37m\u001b[0m \u001b[1m0s\u001b[0m 21ms/step\n",
            "\u001b[1m1/1\u001b[0m \u001b[32m━━━━━━━━━━━━━━━━━━━━\u001b[0m\u001b[37m\u001b[0m \u001b[1m0s\u001b[0m 17ms/step\n",
            "\u001b[1m1/1\u001b[0m \u001b[32m━━━━━━━━━━━━━━━━━━━━\u001b[0m\u001b[37m\u001b[0m \u001b[1m0s\u001b[0m 23ms/step\n",
            "\u001b[1m1/1\u001b[0m \u001b[32m━━━━━━━━━━━━━━━━━━━━\u001b[0m\u001b[37m\u001b[0m \u001b[1m0s\u001b[0m 20ms/step\n",
            "\u001b[1m1/1\u001b[0m \u001b[32m━━━━━━━━━━━━━━━━━━━━\u001b[0m\u001b[37m\u001b[0m \u001b[1m0s\u001b[0m 19ms/step\n",
            "\u001b[1m1/1\u001b[0m \u001b[32m━━━━━━━━━━━━━━━━━━━━\u001b[0m\u001b[37m\u001b[0m \u001b[1m0s\u001b[0m 20ms/step\n",
            "Translated Arabic Sentence:  أنا أحاول أن أفهمك عن ا\n",
            "\n",
            "\n",
            "English sentence: he is ill\n",
            "Actual Arabic Sentence: sos هو مريض eos\n",
            "\u001b[1m1/1\u001b[0m \u001b[32m━━━━━━━━━━━━━━━━━━━━\u001b[0m\u001b[37m\u001b[0m \u001b[1m0s\u001b[0m 17ms/step\n",
            "\u001b[1m1/1\u001b[0m \u001b[32m━━━━━━━━━━━━━━━━━━━━\u001b[0m\u001b[37m\u001b[0m \u001b[1m0s\u001b[0m 17ms/step\n",
            "\u001b[1m1/1\u001b[0m \u001b[32m━━━━━━━━━━━━━━━━━━━━\u001b[0m\u001b[37m\u001b[0m \u001b[1m0s\u001b[0m 18ms/step\n",
            "\u001b[1m1/1\u001b[0m \u001b[32m━━━━━━━━━━━━━━━━━━━━\u001b[0m\u001b[37m\u001b[0m \u001b[1m0s\u001b[0m 17ms/step\n",
            "Translated Arabic Sentence:  إنه \n",
            "\n",
            "\n",
            "English sentence: tom saw something strange\n",
            "Actual Arabic Sentence: sos توم رأى شيئا غريبا eos\n",
            "\u001b[1m1/1\u001b[0m \u001b[32m━━━━━━━━━━━━━━━━━━━━\u001b[0m\u001b[37m\u001b[0m \u001b[1m0s\u001b[0m 17ms/step\n",
            "\u001b[1m1/1\u001b[0m \u001b[32m━━━━━━━━━━━━━━━━━━━━\u001b[0m\u001b[37m\u001b[0m \u001b[1m0s\u001b[0m 18ms/step\n",
            "\u001b[1m1/1\u001b[0m \u001b[32m━━━━━━━━━━━━━━━━━━━━\u001b[0m\u001b[37m\u001b[0m \u001b[1m0s\u001b[0m 19ms/step\n",
            "\u001b[1m1/1\u001b[0m \u001b[32m━━━━━━━━━━━━━━━━━━━━\u001b[0m\u001b[37m\u001b[0m \u001b[1m0s\u001b[0m 18ms/step\n",
            "\u001b[1m1/1\u001b[0m \u001b[32m━━━━━━━━━━━━━━━━━━━━\u001b[0m\u001b[37m\u001b[0m \u001b[1m0s\u001b[0m 18ms/step\n",
            "Translated Arabic Sentence:  ارتكب توم \n",
            "\n",
            "\n",
            "English sentence: when was printing invented\n",
            "Actual Arabic Sentence: sos متى اخترعت الطباعة؟ eos\n",
            "\u001b[1m1/1\u001b[0m \u001b[32m━━━━━━━━━━━━━━━━━━━━\u001b[0m\u001b[37m\u001b[0m \u001b[1m0s\u001b[0m 16ms/step\n",
            "\u001b[1m1/1\u001b[0m \u001b[32m━━━━━━━━━━━━━━━━━━━━\u001b[0m\u001b[37m\u001b[0m \u001b[1m0s\u001b[0m 19ms/step\n",
            "\u001b[1m1/1\u001b[0m \u001b[32m━━━━━━━━━━━━━━━━━━━━\u001b[0m\u001b[37m\u001b[0m \u001b[1m0s\u001b[0m 22ms/step\n",
            "\u001b[1m1/1\u001b[0m \u001b[32m━━━━━━━━━━━━━━━━━━━━\u001b[0m\u001b[37m\u001b[0m \u001b[1m0s\u001b[0m 22ms/step\n",
            "\u001b[1m1/1\u001b[0m \u001b[32m━━━━━━━━━━━━━━━━━━━━\u001b[0m\u001b[37m\u001b[0m \u001b[1m0s\u001b[0m 17ms/step\n",
            "Translated Arabic Sentence:  متى بُني \n",
            "\n",
            "\n",
            "English sentence: why are you doing this\n",
            "Actual Arabic Sentence: sos لماذا تفعلين هذا؟ eos\n",
            "\u001b[1m1/1\u001b[0m \u001b[32m━━━━━━━━━━━━━━━━━━━━\u001b[0m\u001b[37m\u001b[0m \u001b[1m0s\u001b[0m 18ms/step\n",
            "\u001b[1m1/1\u001b[0m \u001b[32m━━━━━━━━━━━━━━━━━━━━\u001b[0m\u001b[37m\u001b[0m \u001b[1m0s\u001b[0m 19ms/step\n",
            "\u001b[1m1/1\u001b[0m \u001b[32m━━━━━━━━━━━━━━━━━━━━\u001b[0m\u001b[37m\u001b[0m \u001b[1m0s\u001b[0m 17ms/step\n",
            "\u001b[1m1/1\u001b[0m \u001b[32m━━━━━━━━━━━━━━━━━━━━\u001b[0m\u001b[37m\u001b[0m \u001b[1m0s\u001b[0m 17ms/step\n",
            "\u001b[1m1/1\u001b[0m \u001b[32m━━━━━━━━━━━━━━━━━━━━\u001b[0m\u001b[37m\u001b[0m \u001b[1m0s\u001b[0m 17ms/step\n",
            "Translated Arabic Sentence:  لماذا تفعل \n",
            "\n",
            "\n",
            "English sentence: there s no one home\n",
            "Actual Arabic Sentence: sos لا يوجد أحد في البيت eos\n",
            "\u001b[1m1/1\u001b[0m \u001b[32m━━━━━━━━━━━━━━━━━━━━\u001b[0m\u001b[37m\u001b[0m \u001b[1m0s\u001b[0m 17ms/step\n",
            "\u001b[1m1/1\u001b[0m \u001b[32m━━━━━━━━━━━━━━━━━━━━\u001b[0m\u001b[37m\u001b[0m \u001b[1m0s\u001b[0m 18ms/step\n",
            "\u001b[1m1/1\u001b[0m \u001b[32m━━━━━━━━━━━━━━━━━━━━\u001b[0m\u001b[37m\u001b[0m \u001b[1m0s\u001b[0m 18ms/step\n",
            "\u001b[1m1/1\u001b[0m \u001b[32m━━━━━━━━━━━━━━━━━━━━\u001b[0m\u001b[37m\u001b[0m \u001b[1m0s\u001b[0m 22ms/step\n",
            "\u001b[1m1/1\u001b[0m \u001b[32m━━━━━━━━━━━━━━━━━━━━\u001b[0m\u001b[37m\u001b[0m \u001b[1m0s\u001b[0m 19ms/step\n",
            "\u001b[1m1/1\u001b[0m \u001b[32m━━━━━━━━━━━━━━━━━━━━\u001b[0m\u001b[37m\u001b[0m \u001b[1m0s\u001b[0m 20ms/step\n",
            "\u001b[1m1/1\u001b[0m \u001b[32m━━━━━━━━━━━━━━━━━━━━\u001b[0m\u001b[37m\u001b[0m \u001b[1m0s\u001b[0m 18ms/step\n",
            "Translated Arabic Sentence:  لا يوجد هناك في ا\n",
            "\n",
            "\n",
            "English sentence: why do not i do that\n",
            "Actual Arabic Sentence: sos لماذا لا أفعل ذلك؟ eos\n",
            "\u001b[1m1/1\u001b[0m \u001b[32m━━━━━━━━━━━━━━━━━━━━\u001b[0m\u001b[37m\u001b[0m \u001b[1m0s\u001b[0m 16ms/step\n",
            "\u001b[1m1/1\u001b[0m \u001b[32m━━━━━━━━━━━━━━━━━━━━\u001b[0m\u001b[37m\u001b[0m \u001b[1m0s\u001b[0m 25ms/step\n",
            "\u001b[1m1/1\u001b[0m \u001b[32m━━━━━━━━━━━━━━━━━━━━\u001b[0m\u001b[37m\u001b[0m \u001b[1m0s\u001b[0m 21ms/step\n",
            "\u001b[1m1/1\u001b[0m \u001b[32m━━━━━━━━━━━━━━━━━━━━\u001b[0m\u001b[37m\u001b[0m \u001b[1m0s\u001b[0m 20ms/step\n",
            "\u001b[1m1/1\u001b[0m \u001b[32m━━━━━━━━━━━━━━━━━━━━\u001b[0m\u001b[37m\u001b[0m \u001b[1m0s\u001b[0m 18ms/step\n",
            "\u001b[1m1/1\u001b[0m \u001b[32m━━━━━━━━━━━━━━━━━━━━\u001b[0m\u001b[37m\u001b[0m \u001b[1m0s\u001b[0m 23ms/step\n",
            "Translated Arabic Sentence:  لم لا نقوم ب\n",
            "\n",
            "\n",
            "English sentence: where do you have lunch\n",
            "Actual Arabic Sentence: sos أين تتناول الغذاء؟ eos\n",
            "\u001b[1m1/1\u001b[0m \u001b[32m━━━━━━━━━━━━━━━━━━━━\u001b[0m\u001b[37m\u001b[0m \u001b[1m0s\u001b[0m 17ms/step\n",
            "\u001b[1m1/1\u001b[0m \u001b[32m━━━━━━━━━━━━━━━━━━━━\u001b[0m\u001b[37m\u001b[0m \u001b[1m0s\u001b[0m 18ms/step\n",
            "\u001b[1m1/1\u001b[0m \u001b[32m━━━━━━━━━━━━━━━━━━━━\u001b[0m\u001b[37m\u001b[0m \u001b[1m0s\u001b[0m 21ms/step\n",
            "\u001b[1m1/1\u001b[0m \u001b[32m━━━━━━━━━━━━━━━━━━━━\u001b[0m\u001b[37m\u001b[0m \u001b[1m0s\u001b[0m 18ms/step\n",
            "\u001b[1m1/1\u001b[0m \u001b[32m━━━━━━━━━━━━━━━━━━━━\u001b[0m\u001b[37m\u001b[0m \u001b[1m0s\u001b[0m 18ms/step\n",
            "\u001b[1m1/1\u001b[0m \u001b[32m━━━━━━━━━━━━━━━━━━━━\u001b[0m\u001b[37m\u001b[0m \u001b[1m0s\u001b[0m 32ms/step\n",
            "Translated Arabic Sentence:  أين أين تشتري ملا\n",
            "\n",
            "\n",
            "English sentence: who designed these uniforms\n",
            "Actual Arabic Sentence: sos من صمّم هذه الأزياء؟ eos\n",
            "\u001b[1m1/1\u001b[0m \u001b[32m━━━━━━━━━━━━━━━━━━━━\u001b[0m\u001b[37m\u001b[0m \u001b[1m0s\u001b[0m 29ms/step\n",
            "\u001b[1m1/1\u001b[0m \u001b[32m━━━━━━━━━━━━━━━━━━━━\u001b[0m\u001b[37m\u001b[0m \u001b[1m0s\u001b[0m 31ms/step\n",
            "\u001b[1m1/1\u001b[0m \u001b[32m━━━━━━━━━━━━━━━━━━━━\u001b[0m\u001b[37m\u001b[0m \u001b[1m0s\u001b[0m 36ms/step\n",
            "\u001b[1m1/1\u001b[0m \u001b[32m━━━━━━━━━━━━━━━━━━━━\u001b[0m\u001b[37m\u001b[0m \u001b[1m0s\u001b[0m 31ms/step\n",
            "\u001b[1m1/1\u001b[0m \u001b[32m━━━━━━━━━━━━━━━━━━━━\u001b[0m\u001b[37m\u001b[0m \u001b[1m0s\u001b[0m 25ms/step\n",
            "Translated Arabic Sentence:  من هذان الول\n",
            "\n",
            "\n",
            "English sentence: why is tom being so nice to us\n",
            "Actual Arabic Sentence: sos لماذا يعاملنا توم بلطف بالغ؟ eos\n",
            "\u001b[1m1/1\u001b[0m \u001b[32m━━━━━━━━━━━━━━━━━━━━\u001b[0m\u001b[37m\u001b[0m \u001b[1m0s\u001b[0m 25ms/step\n",
            "\u001b[1m1/1\u001b[0m \u001b[32m━━━━━━━━━━━━━━━━━━━━\u001b[0m\u001b[37m\u001b[0m \u001b[1m0s\u001b[0m 26ms/step\n",
            "\u001b[1m1/1\u001b[0m \u001b[32m━━━━━━━━━━━━━━━━━━━━\u001b[0m\u001b[37m\u001b[0m \u001b[1m0s\u001b[0m 25ms/step\n",
            "\u001b[1m1/1\u001b[0m \u001b[32m━━━━━━━━━━━━━━━━━━━━\u001b[0m\u001b[37m\u001b[0m \u001b[1m0s\u001b[0m 26ms/step\n",
            "\u001b[1m1/1\u001b[0m \u001b[32m━━━━━━━━━━━━━━━━━━━━\u001b[0m\u001b[37m\u001b[0m \u001b[1m0s\u001b[0m 29ms/step\n",
            "\u001b[1m1/1\u001b[0m \u001b[32m━━━━━━━━━━━━━━━━━━━━\u001b[0m\u001b[37m\u001b[0m \u001b[1m0s\u001b[0m 27ms/step\n",
            "\u001b[1m1/1\u001b[0m \u001b[32m━━━━━━━━━━━━━━━━━━━━\u001b[0m\u001b[37m\u001b[0m \u001b[1m0s\u001b[0m 35ms/step\n",
            "Translated Arabic Sentence:  لماذا توم ليس يتكلم\n",
            "\n",
            "\n",
            "English sentence: her ambition is to become an ambassador\n",
            "Actual Arabic Sentence: sos طموحه أن يصبح سفيرا eos\n",
            "\u001b[1m1/1\u001b[0m \u001b[32m━━━━━━━━━━━━━━━━━━━━\u001b[0m\u001b[37m\u001b[0m \u001b[1m0s\u001b[0m 23ms/step\n",
            "\u001b[1m1/1\u001b[0m \u001b[32m━━━━━━━━━━━━━━━━━━━━\u001b[0m\u001b[37m\u001b[0m \u001b[1m0s\u001b[0m 33ms/step\n",
            "\u001b[1m1/1\u001b[0m \u001b[32m━━━━━━━━━━━━━━━━━━━━\u001b[0m\u001b[37m\u001b[0m \u001b[1m0s\u001b[0m 27ms/step\n",
            "\u001b[1m1/1\u001b[0m \u001b[32m━━━━━━━━━━━━━━━━━━━━\u001b[0m\u001b[37m\u001b[0m \u001b[1m0s\u001b[0m 32ms/step\n",
            "\u001b[1m1/1\u001b[0m \u001b[32m━━━━━━━━━━━━━━━━━━━━\u001b[0m\u001b[37m\u001b[0m \u001b[1m0s\u001b[0m 30ms/step\n",
            "\u001b[1m1/1\u001b[0m \u001b[32m━━━━━━━━━━━━━━━━━━━━\u001b[0m\u001b[37m\u001b[0m \u001b[1m0s\u001b[0m 30ms/step\n",
            "\u001b[1m1/1\u001b[0m \u001b[32m━━━━━━━━━━━━━━━━━━━━\u001b[0m\u001b[37m\u001b[0m \u001b[1m0s\u001b[0m 31ms/step\n",
            "Translated Arabic Sentence:  طموحها هو أن تصبح س\n",
            "\n",
            "\n",
            "English sentence: i did not study math at all\n",
            "Actual Arabic Sentence: sos لم أدرس مادة الرياضيات على الإطلاق eos\n",
            "\u001b[1m1/1\u001b[0m \u001b[32m━━━━━━━━━━━━━━━━━━━━\u001b[0m\u001b[37m\u001b[0m \u001b[1m0s\u001b[0m 30ms/step\n",
            "\u001b[1m1/1\u001b[0m \u001b[32m━━━━━━━━━━━━━━━━━━━━\u001b[0m\u001b[37m\u001b[0m \u001b[1m0s\u001b[0m 30ms/step\n",
            "\u001b[1m1/1\u001b[0m \u001b[32m━━━━━━━━━━━━━━━━━━━━\u001b[0m\u001b[37m\u001b[0m \u001b[1m0s\u001b[0m 30ms/step\n",
            "\u001b[1m1/1\u001b[0m \u001b[32m━━━━━━━━━━━━━━━━━━━━\u001b[0m\u001b[37m\u001b[0m \u001b[1m0s\u001b[0m 31ms/step\n",
            "\u001b[1m1/1\u001b[0m \u001b[32m━━━━━━━━━━━━━━━━━━━━\u001b[0m\u001b[37m\u001b[0m \u001b[1m0s\u001b[0m 32ms/step\n",
            "\u001b[1m1/1\u001b[0m \u001b[32m━━━━━━━━━━━━━━━━━━━━\u001b[0m\u001b[37m\u001b[0m \u001b[1m0s\u001b[0m 27ms/step\n",
            "Translated Arabic Sentence:  لم أدرس الإطلاق \n",
            "\n",
            "\n",
            "English sentence: the well ran dry\n",
            "Actual Arabic Sentence: sos جف البئر eos\n",
            "\u001b[1m1/1\u001b[0m \u001b[32m━━━━━━━━━━━━━━━━━━━━\u001b[0m\u001b[37m\u001b[0m \u001b[1m0s\u001b[0m 28ms/step\n",
            "\u001b[1m1/1\u001b[0m \u001b[32m━━━━━━━━━━━━━━━━━━━━\u001b[0m\u001b[37m\u001b[0m \u001b[1m0s\u001b[0m 32ms/step\n",
            "\u001b[1m1/1\u001b[0m \u001b[32m━━━━━━━━━━━━━━━━━━━━\u001b[0m\u001b[37m\u001b[0m \u001b[1m0s\u001b[0m 30ms/step\n",
            "\u001b[1m1/1\u001b[0m \u001b[32m━━━━━━━━━━━━━━━━━━━━\u001b[0m\u001b[37m\u001b[0m \u001b[1m0s\u001b[0m 28ms/step\n",
            "Translated Arabic Sentence:  إحمرّ و\n",
            "\n",
            "\n"
          ]
        }
      ]
    }
  ]
}